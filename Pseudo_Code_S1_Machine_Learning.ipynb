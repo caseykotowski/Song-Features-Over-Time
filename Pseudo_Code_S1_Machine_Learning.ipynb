{
  "nbformat": 4,
  "nbformat_minor": 0,
  "metadata": {
    "colab": {
      "name": "Pseudo Code S1 Machine Learning",
      "provenance": [],
      "collapsed_sections": []
    },
    "kernelspec": {
      "name": "python3",
      "display_name": "Python 3"
    },
    "language_info": {
      "name": "python"
    }
  },
  "cells": [
    {
      "cell_type": "code",
      "metadata": {
        "id": "lNhS8Mnpvu40"
      },
      "source": [
        "# Initial imports\n",
        "import pandas as pd\n",
        "import numpy as np\n",
        "import hvplot.pandas\n",
        "\n",
        "from pathlib import Path\n",
        "import plotly.express as px\n",
        "from sklearn.preprocessing import StandardScaler, MinMaxScaler\n",
        "from sklearn.decomposition import PCA\n",
        "from sklearn.cluster import KMeans"
      ],
      "execution_count": null,
      "outputs": []
    },
    {
      "cell_type": "code",
      "metadata": {
        "id": "Ayji0YwBwVYA"
      },
      "source": [
        "# Read data from DB using PySpark\n",
        "# Load in employee.csv from S3 into a DataFrame\n",
        "\n",
        "# Normalize data\n",
        "from sklearn.preprocessing import normalize\n",
        "data_scaled = normalize(data)\n",
        "data_scaled = pd.DataFrame(data_scaled, columns=data.columns)\n",
        "data_scaled.head()"
      ],
      "execution_count": null,
      "outputs": []
    },
    {
      "cell_type": "code",
      "metadata": {
        "id": "w_N3Z5QZynig"
      },
      "source": [
        "# Create dendrogram\n",
        "import scipy.cluster.hierarchy as shc\n",
        "plt.figure(figsize=(10, 7))  \n",
        "plt.title(\"Dendrograms\")  \n",
        "dend = shc.dendrogram(shc.linkage(data_scaled, method='ward'))\n"
      ],
      "execution_count": null,
      "outputs": []
    },
    {
      "cell_type": "code",
      "metadata": {
        "id": "WXd02GZCy56n"
      },
      "source": [
        "# Create hierarchal clustering array using n_clusters determined from dendrogram analysis\n",
        "from sklearn.cluster import AgglomerativeClustering\n",
        "cluster = AgglomerativeClustering(n_clusters=X, affinity='euclidean', linkage='ward')  \n",
        "cluster.fit_predict(data_scaled)"
      ],
      "execution_count": null,
      "outputs": []
    },
    {
      "cell_type": "code",
      "metadata": {
        "id": "II7hZw2q0FsK"
      },
      "source": [
        "# Plot scatter plot of clusters\n"
      ],
      "execution_count": null,
      "outputs": []
    }
  ]
}