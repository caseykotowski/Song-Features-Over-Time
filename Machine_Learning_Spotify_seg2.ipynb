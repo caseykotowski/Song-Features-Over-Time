{
  "nbformat": 4,
  "nbformat_minor": 0,
  "metadata": {
    "colab": {
      "name": "Machine-Learning-Spotify-seg2.ipynb",
      "provenance": [],
      "collapsed_sections": []
    },
    "kernelspec": {
      "name": "python3",
      "display_name": "Python 3"
    },
    "language_info": {
      "name": "python"
    }
  },
  "cells": [
    {
      "cell_type": "code",
      "metadata": {
        "id": "9lWYxOKOacFG",
        "colab": {
          "base_uri": "https://localhost:8080/"
        },
        "outputId": "ca9c8d13-57b3-4b09-bd27-527920855802"
      },
      "source": [
        "import os\n",
        "# Find the latest version of spark 3.0  from http://www.apache.org/dist/spark/ and enter as the spark version\n",
        "# For example:\n",
        "# spark_version = 'spark-3.0.3'\n",
        "spark_version = 'spark-3.1.2'\n",
        "os.environ['SPARK_VERSION']=spark_version\n",
        "\n",
        "# Install Spark and Java\n",
        "!apt-get update\n",
        "!apt-get install openjdk-11-jdk-headless -qq > /dev/null\n",
        "!wget -q http://www.apache.org/dist/spark/$SPARK_VERSION/$SPARK_VERSION-bin-hadoop2.7.tgz\n",
        "!tar xf $SPARK_VERSION-bin-hadoop2.7.tgz\n",
        "!pip install -q findspark\n",
        "\n",
        "# Set Environment Variables\n",
        "import os\n",
        "os.environ[\"JAVA_HOME\"] = \"/usr/lib/jvm/java-11-openjdk-amd64\"\n",
        "os.environ[\"SPARK_HOME\"] = f\"/content/{spark_version}-bin-hadoop2.7\"\n",
        "\n",
        "# Start a SparkSession\n",
        "import findspark\n",
        "findspark.init()"
      ],
      "execution_count": 1,
      "outputs": [
        {
          "output_type": "stream",
          "text": [
            "Get:1 http://security.ubuntu.com/ubuntu bionic-security InRelease [88.7 kB]\n",
            "Get:2 https://cloud.r-project.org/bin/linux/ubuntu bionic-cran40/ InRelease [3,626 B]\n",
            "Hit:3 http://archive.ubuntu.com/ubuntu bionic InRelease\n",
            "Ign:4 https://developer.download.nvidia.com/compute/cuda/repos/ubuntu1804/x86_64  InRelease\n",
            "Get:5 http://ppa.launchpad.net/c2d4u.team/c2d4u4.0+/ubuntu bionic InRelease [15.9 kB]\n",
            "Get:6 http://archive.ubuntu.com/ubuntu bionic-updates InRelease [88.7 kB]\n",
            "Ign:7 https://developer.download.nvidia.com/compute/machine-learning/repos/ubuntu1804/x86_64  InRelease\n",
            "Get:8 https://developer.download.nvidia.com/compute/cuda/repos/ubuntu1804/x86_64  Release [697 B]\n",
            "Hit:9 https://developer.download.nvidia.com/compute/machine-learning/repos/ubuntu1804/x86_64  Release\n",
            "Get:10 https://developer.download.nvidia.com/compute/cuda/repos/ubuntu1804/x86_64  Release.gpg [836 B]\n",
            "Hit:11 http://ppa.launchpad.net/cran/libgit2/ubuntu bionic InRelease\n",
            "Get:12 http://security.ubuntu.com/ubuntu bionic-security/universe amd64 Packages [1,420 kB]\n",
            "Get:13 http://archive.ubuntu.com/ubuntu bionic-backports InRelease [74.6 kB]\n",
            "Get:14 http://ppa.launchpad.net/deadsnakes/ppa/ubuntu bionic InRelease [15.9 kB]\n",
            "Get:15 http://security.ubuntu.com/ubuntu bionic-security/main amd64 Packages [2,263 kB]\n",
            "Get:16 http://security.ubuntu.com/ubuntu bionic-security/restricted amd64 Packages [510 kB]\n",
            "Get:17 http://security.ubuntu.com/ubuntu bionic-security/multiverse amd64 Packages [26.7 kB]\n",
            "Get:18 http://ppa.launchpad.net/graphics-drivers/ppa/ubuntu bionic InRelease [21.3 kB]\n",
            "Get:19 https://cloud.r-project.org/bin/linux/ubuntu bionic-cran40/ Packages [62.9 kB]\n",
            "Get:20 http://ppa.launchpad.net/c2d4u.team/c2d4u4.0+/ubuntu bionic/main Sources [1,786 kB]\n",
            "Ign:22 https://developer.download.nvidia.com/compute/cuda/repos/ubuntu1804/x86_64  Packages\n",
            "Get:22 https://developer.download.nvidia.com/compute/cuda/repos/ubuntu1804/x86_64  Packages [695 kB]\n",
            "Get:23 http://ppa.launchpad.net/c2d4u.team/c2d4u4.0+/ubuntu bionic/main amd64 Packages [914 kB]\n",
            "Get:24 http://archive.ubuntu.com/ubuntu bionic-updates/multiverse amd64 Packages [39.4 kB]\n",
            "Get:25 http://archive.ubuntu.com/ubuntu bionic-updates/restricted amd64 Packages [544 kB]\n",
            "Get:26 http://archive.ubuntu.com/ubuntu bionic-updates/main amd64 Packages [2,698 kB]\n",
            "Get:27 http://archive.ubuntu.com/ubuntu bionic-updates/universe amd64 Packages [2,195 kB]\n",
            "Get:28 http://ppa.launchpad.net/deadsnakes/ppa/ubuntu bionic/main amd64 Packages [40.9 kB]\n",
            "Get:29 http://ppa.launchpad.net/graphics-drivers/ppa/ubuntu bionic/main amd64 Packages [44.1 kB]\n",
            "Fetched 13.5 MB in 5s (2,509 kB/s)\n",
            "Reading package lists... Done\n"
          ],
          "name": "stdout"
        }
      ]
    },
    {
      "cell_type": "code",
      "metadata": {
        "id": "zX9ukBg8awlk"
      },
      "source": [
        "# Start Spark session\n",
        "from pyspark.sql import SparkSession\n",
        "spark = SparkSession.builder.appName(\"LoadingData\").getOrCreate()"
      ],
      "execution_count": 2,
      "outputs": []
    },
    {
      "cell_type": "code",
      "metadata": {
        "id": "18Wi5OS-b76t",
        "colab": {
          "base_uri": "https://localhost:8080/"
        },
        "outputId": "d4a7ca00-12ae-4b08-c9e5-5b8af0f46010"
      },
      "source": [
        "# Read in data from S3 Buckets\n",
        "from pyspark import SparkFiles\n",
        "url = \"https://spot-i-fy-bucket.s3.us-east-2.amazonaws.com/tracks.csv\"\n",
        "spark.sparkContext.addFile(url)\n",
        "df = spark.read.csv(SparkFiles.get(\"tracks.csv\"), sep=\",\", header=True)\n",
        "\n",
        "# Show DataFrame\n",
        "df.show()"
      ],
      "execution_count": 3,
      "outputs": [
        {
          "output_type": "stream",
          "text": [
            "+--------------------+--------------------+----------+-----------+--------+-------------------+--------------------+------------+------------+------+---+--------+----+-----------+------------+----------------+--------+-------+-------+--------------+\n",
            "|                  id|                name|popularity|duration_ms|explicit|            artists|          id_artists|release_date|danceability|energy|key|loudness|mode|speechiness|acousticness|instrumentalness|liveness|valence|  tempo|time_signature|\n",
            "+--------------------+--------------------+----------+-----------+--------+-------------------+--------------------+------------+------------+------+---+--------+----+-----------+------------+----------------+--------+-------+-------+--------------+\n",
            "|35iwgR4jXetI318WE...|               Carve|         6|     126903|       0|            ['Uli']|['45tIt06XoI0Iio4...|  1922-02-22|       0.645| 0.445|  0| -13.338|   1|      0.451|       0.674|           0.744|   0.151|  0.127|104.851|             3|\n",
            "|021ht4sdgPcrDgSk7...|Capítulo 2.16 - B...|         0|      98200|       0|['Fernando Pessoa']|['14jtPCOoNZwquk5...|  1922-06-01|       0.695| 0.263|  0| -22.136|   1|      0.957|       0.797|             0.0|   0.148|  0.655|102.009|             1|\n",
            "|07A5yehtSnoedViJA...|Vivo para Querert...|         0|     181640|       0|['Ignacio Corsini']|['5LiOoJbxVSAMkBS...|  1922-03-21|       0.434| 0.177|  1|  -21.18|   1|     0.0512|       0.994|          0.0218|   0.212|  0.457|130.418|             5|\n",
            "|08FmqUhxtyLTn6pAh...|El Prisionero - R...|         0|     176907|       0|['Ignacio Corsini']|['5LiOoJbxVSAMkBS...|  1922-03-21|       0.321|0.0946|  7| -27.961|   1|     0.0504|       0.995|           0.918|   0.104|  0.397| 169.98|             3|\n",
            "|08y9GfoqCWfOGsKdw...| Lady of the Evening|         0|     163080|       0|    ['Dick Haymes']|['3BiJGZsyX9sJchT...|        1922|       0.402| 0.158|  3|   -16.9|   0|      0.039|       0.989|            0.13|   0.311|  0.196| 103.22|             4|\n",
            "|0BRXJHRNGQ3W4v9fr...|           Ave Maria|         0|     178933|       0|    ['Dick Haymes']|['3BiJGZsyX9sJchT...|        1922|       0.227| 0.261|  5| -12.343|   1|     0.0382|       0.994|           0.247|  0.0977| 0.0539|118.891|             4|\n",
            "|0Dd9ImXtAtGwsmsAD...|      La Butte Rouge|         0|     134467|       0|  ['Francis Marty']|['2nuMRGzeJ5jJEKl...|        1922|        0.51| 0.355|  4| -12.833|   1|      0.124|       0.965|             0.0|   0.155|  0.727| 85.754|             5|\n",
            "|0IA0Hju8CAgYfV1hw...|             La Java|         0|     161427|       0|    ['Mistinguett']|['4AxgXfD7ISvJSTO...|        1922|       0.563| 0.184|  4| -13.757|   1|     0.0512|       0.993|        1.55e-05|   0.325|  0.654|133.088|             3|\n",
            "|0IgI1UCz84pYeVetn...|  Old Fashioned Girl|         0|     310073|       0|    ['Greg Fieler']|['5nWlsH5RDgFuRAi...|        1922|       0.488| 0.475|  0| -16.222|   0|     0.0399|        0.62|         0.00645|   0.107|  0.544|139.952|             4|\n",
            "|0JV4iqw2lSKJaHBQZ...|Martín Fierro - R...|         0|     181173|       0|['Ignacio Corsini']|['5LiOoJbxVSAMkBS...|  1922-03-29|       0.548|0.0391|  6| -23.228|   1|      0.153|       0.996|           0.933|   0.148|  0.612| 75.595|             3|\n",
            "|0OYGe21oScKJfanLy...|Capítulo 2.8 - Ba...|         0|      99100|       0|['Fernando Pessoa']|['14jtPCOoNZwquk5...|  1922-06-01|       0.676| 0.235| 11| -22.447|   0|       0.96|       0.794|             0.0|    0.21|  0.724| 96.777|             3|\n",
            "|0PE42H6tslQuyMMiG...|Capítulo 2.25 - B...|         0|     132700|       0|['Fernando Pessoa']|['14jtPCOoNZwquk5...|  1922-06-01|        0.75| 0.229|  2| -22.077|   1|      0.955|       0.578|             0.0|   0.314|  0.531|102.629|             3|\n",
            "|0PH9AACae1f957JAa...|            Lazy Boi|         0|     157333|       0|            ['Uli']|['45tIt06XoI0Iio4...|  1922-02-22|       0.298|  0.46|  1| -18.645|   1|      0.453|       0.521|           0.856|   0.436|  0.402| 87.921|             4|\n",
            "|0QiT0Oo5QdLXdFw6R...|Tu Verras Montmartre|         1|     186800|       0|   ['Lucien Boyer']|['4mSouLpNSEY1d7O...|        1922|       0.703|  0.28|  0|  -15.39|   1|      0.174|       0.995|        6.84e-05|   0.163|  0.897|127.531|             4|\n",
            "|0TWsNj5iSvbMTtbED...|Elle Prend L'boul...|         0|     172027|       0|    ['Félix Mayol']|['7DIlOK9L8d0IQ7X...|        1922|       0.709| 0.289|  2| -14.978|   1|       0.18|       0.967|             0.0|   0.119|   0.84|107.515|             4|\n",
            "|0cC9CYjLRIzwchQ42...|Capítulo 1.23 - B...|         0|      96600|       0|['Fernando Pessoa']|['14jtPCOoNZwquk5...|  1922-06-01|       0.687| 0.198|  4| -24.264|   0|      0.962|       0.754|             0.0|   0.197|  0.478| 78.453|             1|\n",
            "|0eb1PfHxT6HnXvvdU...|Capítulo 1.18 - B...|         0|     103200|       0|['Fernando Pessoa']|['14jtPCOoNZwquk5...|  1922-06-01|         0.8| 0.171|  8| -24.384|   1|      0.953|        0.67|             0.0|   0.123|  0.693| 59.613|             3|\n",
            "|0grXU6GKVNCVMJbse...|Capítulo 1.10 - B...|         0|      95800|       0|['Fernando Pessoa']|['14jtPCOoNZwquk5...|  1922-06-01|         0.7| 0.208|  2| -23.874|   1|      0.956|       0.691|             0.0|   0.441|  0.613| 85.739|             1|\n",
            "|0kCB1bDVBC8gWCFcn...|  Ca C'est Une Chose|         0|     188000|       0| ['Victor Boucher']|['7vVR02JJYvsEAEP...|        1922|       0.352| 0.334|  5| -13.038|   1|     0.0594|       0.996|         0.00746|    0.36|  0.414| 76.403|             4|\n",
            "|0l3BQsVJ7F76wlN5Q...|El Vendaval - Rem...|         0|     153533|       0|['Ignacio Corsini']|['5LiOoJbxVSAMkBS...|  1922-03-21|        0.37| 0.372|  2| -17.138|   1|     0.0865|       0.985|        0.000681|   0.929|  0.753|159.669|             4|\n",
            "+--------------------+--------------------+----------+-----------+--------+-------------------+--------------------+------------+------------+------+---+--------+----+-----------+------------+----------------+--------+-------+-------+--------------+\n",
            "only showing top 20 rows\n",
            "\n"
          ],
          "name": "stdout"
        }
      ]
    },
    {
      "cell_type": "code",
      "metadata": {
        "colab": {
          "base_uri": "https://localhost:8080/"
        },
        "id": "BDnZyvrSvbcA",
        "outputId": "9fd906ee-0906-4d27-887d-591546c955b7"
      },
      "source": [
        "# Print our schema\n",
        "df.printSchema()"
      ],
      "execution_count": 4,
      "outputs": [
        {
          "output_type": "stream",
          "text": [
            "root\n",
            " |-- id: string (nullable = true)\n",
            " |-- name: string (nullable = true)\n",
            " |-- popularity: string (nullable = true)\n",
            " |-- duration_ms: string (nullable = true)\n",
            " |-- explicit: string (nullable = true)\n",
            " |-- artists: string (nullable = true)\n",
            " |-- id_artists: string (nullable = true)\n",
            " |-- release_date: string (nullable = true)\n",
            " |-- danceability: string (nullable = true)\n",
            " |-- energy: string (nullable = true)\n",
            " |-- key: string (nullable = true)\n",
            " |-- loudness: string (nullable = true)\n",
            " |-- mode: string (nullable = true)\n",
            " |-- speechiness: string (nullable = true)\n",
            " |-- acousticness: string (nullable = true)\n",
            " |-- instrumentalness: string (nullable = true)\n",
            " |-- liveness: string (nullable = true)\n",
            " |-- valence: string (nullable = true)\n",
            " |-- tempo: string (nullable = true)\n",
            " |-- time_signature: string (nullable = true)\n",
            "\n"
          ],
          "name": "stdout"
        }
      ]
    },
    {
      "cell_type": "code",
      "metadata": {
        "id": "o4D-sDsV6q_6",
        "colab": {
          "base_uri": "https://localhost:8080/"
        },
        "outputId": "b1107f06-c1a9-4236-a42f-2ee554ceff2e"
      },
      "source": [
        "# Read in data from S3 Buckets\n",
        "from pyspark import SparkFiles\n",
        "url = \"https://spot-i-fy-bucket.s3.us-east-2.amazonaws.com/artists.csv\"\n",
        "spark.sparkContext.addFile(url)\n",
        "a_df = spark.read.csv(SparkFiles.get(\"artists.csv\"), sep=\",\", header=True)\n",
        "\n",
        "# Show DataFrame\n",
        "a_df.show()"
      ],
      "execution_count": 11,
      "outputs": [
        {
          "output_type": "stream",
          "text": [
            "+--------------------+---------+------+--------------------+----------+\n",
            "|                  id|followers|genres|                name|popularity|\n",
            "+--------------------+---------+------+--------------------+----------+\n",
            "|0DheY5irMjBUeLybb...|      0.0|    []|Armid & Amir Zare...|         0|\n",
            "|0DlhY15l3wsrnlfGi...|      5.0|    []|         ปูนา ภาวิณี|         0|\n",
            "|0DmRESX2JknGPQyO1...|      0.0|    []|               Sadaa|         0|\n",
            "|0DmhnbHjm1qw6NCYP...|      0.0|    []|           Tra'gruda|         0|\n",
            "|0Dn11fWM7vHQ3rinv...|      2.0|    []|Ioannis Panoutsop...|         0|\n",
            "|0DotfDlYMGqkbzfBh...|      7.0|    []|       Astral Affect|         0|\n",
            "|0DqP3bOCiC48L8SM9...|      1.0|    []|           Yung Seed|         0|\n",
            "|0Drs3maQb99iRglyT...|      0.0|    []|               Wi'Ma|         0|\n",
            "|0DsPeAi1gxPPnYjgp...|      0.0|    []|             lentboy|         0|\n",
            "|0DtvnTxgZ9K5YaPS5...|     20.0|    []|            addworks|         0|\n",
            "|0Du4t8UK1lBD8TnOI...|      1.0|    []|         Harrbazzter|         0|\n",
            "|0DuJ5k2ERoAizEdgU...|      0.0|    []|      Helena Brunner|         0|\n",
            "|0DujX6vG6qOz2wVBC...|      0.0|    []|      Deezy McDuffie|         0|\n",
            "|0DvBSYDq5ikdlKgp9...|      1.0|    []|       Riyaz Azaimar|         0|\n",
            "|0DvvojCMIqsOT1Bti...|    422.0|    []|       Sidonie Radio|         0|\n",
            "|0DxcE03jyjg3wQVHU...|      0.0|    []|          Le Chamête|         0|\n",
            "|0DxsGcq4ILa7Ss2Cm...|      0.0|    []|            Lipin. P|         0|\n",
            "|0DzKNJPHYPMaLDxDV...|      4.0|    []|        Breakingnews|         0|\n",
            "|0DzfuBZVzDryD5ZqK...|      0.0|    []|      TINY x dr.KONG|         0|\n",
            "|0DzvgthIK2nmlAPE0...|      0.0|    []|              Stan P|         0|\n",
            "+--------------------+---------+------+--------------------+----------+\n",
            "only showing top 20 rows\n",
            "\n"
          ],
          "name": "stdout"
        }
      ]
    },
    {
      "cell_type": "code",
      "metadata": {
        "id": "DARQAHusliUA"
      },
      "source": [
        "# Import dependencies for Machine Learning\n",
        "import matplotlib.pyplot as plt\n",
        "from scipy.cluster.hierarchy import fcluster, linkage, dendrogram\n",
        "import pandas as pd\n",
        "import numpy as np\n",
        "from pathlib import Path\n",
        "#import hvplot.pandas\n",
        "#from path import Path\n",
        "import plotly.express as px\n",
        "from sklearn.preprocessing import StandardScaler, MinMaxScaler\n",
        "from sklearn.decomposition import PCA\n",
        "from sklearn.cluster import KMeans\n",
        "from sklearn import datasets\n",
        "from sklearn.metrics import confusion_matrix"
      ],
      "execution_count": 7,
      "outputs": []
    },
    {
      "cell_type": "code",
      "metadata": {
        "id": "4AIrKDtN5jOb"
      },
      "source": [
        "# Convert Spark DataFrame to Pandas DataFrame\n",
        "artists_df = a_df.toPandas()"
      ],
      "execution_count": 12,
      "outputs": []
    },
    {
      "cell_type": "code",
      "metadata": {
        "colab": {
          "base_uri": "https://localhost:8080/",
          "height": 326
        },
        "id": "-vgJZAdx5tOl",
        "outputId": "87b49aeb-d4a6-4ad8-eb51-9e8bd98602ae"
      },
      "source": [
        "# Convert Spark DataFrame to Pandas DataFrame\n",
        "track_df = df.toPandas()\n",
        "track_df.head()"
      ],
      "execution_count": 10,
      "outputs": [
        {
          "output_type": "execute_result",
          "data": {
            "text/html": [
              "<div>\n",
              "<style scoped>\n",
              "    .dataframe tbody tr th:only-of-type {\n",
              "        vertical-align: middle;\n",
              "    }\n",
              "\n",
              "    .dataframe tbody tr th {\n",
              "        vertical-align: top;\n",
              "    }\n",
              "\n",
              "    .dataframe thead th {\n",
              "        text-align: right;\n",
              "    }\n",
              "</style>\n",
              "<table border=\"1\" class=\"dataframe\">\n",
              "  <thead>\n",
              "    <tr style=\"text-align: right;\">\n",
              "      <th></th>\n",
              "      <th>id</th>\n",
              "      <th>name</th>\n",
              "      <th>popularity</th>\n",
              "      <th>duration_ms</th>\n",
              "      <th>explicit</th>\n",
              "      <th>artists</th>\n",
              "      <th>id_artists</th>\n",
              "      <th>release_date</th>\n",
              "      <th>danceability</th>\n",
              "      <th>energy</th>\n",
              "      <th>key</th>\n",
              "      <th>loudness</th>\n",
              "      <th>mode</th>\n",
              "      <th>speechiness</th>\n",
              "      <th>acousticness</th>\n",
              "      <th>instrumentalness</th>\n",
              "      <th>liveness</th>\n",
              "      <th>valence</th>\n",
              "      <th>tempo</th>\n",
              "      <th>time_signature</th>\n",
              "    </tr>\n",
              "  </thead>\n",
              "  <tbody>\n",
              "    <tr>\n",
              "      <th>0</th>\n",
              "      <td>35iwgR4jXetI318WEWsa1Q</td>\n",
              "      <td>Carve</td>\n",
              "      <td>6</td>\n",
              "      <td>126903</td>\n",
              "      <td>0</td>\n",
              "      <td>['Uli']</td>\n",
              "      <td>['45tIt06XoI0Iio4LBEVpls']</td>\n",
              "      <td>1922-02-22</td>\n",
              "      <td>0.645</td>\n",
              "      <td>0.445</td>\n",
              "      <td>0</td>\n",
              "      <td>-13.338</td>\n",
              "      <td>1</td>\n",
              "      <td>0.451</td>\n",
              "      <td>0.674</td>\n",
              "      <td>0.744</td>\n",
              "      <td>0.151</td>\n",
              "      <td>0.127</td>\n",
              "      <td>104.851</td>\n",
              "      <td>3</td>\n",
              "    </tr>\n",
              "    <tr>\n",
              "      <th>1</th>\n",
              "      <td>021ht4sdgPcrDgSk7JTbKY</td>\n",
              "      <td>Capítulo 2.16 - Banquero Anarquista</td>\n",
              "      <td>0</td>\n",
              "      <td>98200</td>\n",
              "      <td>0</td>\n",
              "      <td>['Fernando Pessoa']</td>\n",
              "      <td>['14jtPCOoNZwquk5wd9DxrY']</td>\n",
              "      <td>1922-06-01</td>\n",
              "      <td>0.695</td>\n",
              "      <td>0.263</td>\n",
              "      <td>0</td>\n",
              "      <td>-22.136</td>\n",
              "      <td>1</td>\n",
              "      <td>0.957</td>\n",
              "      <td>0.797</td>\n",
              "      <td>0.0</td>\n",
              "      <td>0.148</td>\n",
              "      <td>0.655</td>\n",
              "      <td>102.009</td>\n",
              "      <td>1</td>\n",
              "    </tr>\n",
              "    <tr>\n",
              "      <th>2</th>\n",
              "      <td>07A5yehtSnoedViJAZkNnc</td>\n",
              "      <td>Vivo para Quererte - Remasterizado</td>\n",
              "      <td>0</td>\n",
              "      <td>181640</td>\n",
              "      <td>0</td>\n",
              "      <td>['Ignacio Corsini']</td>\n",
              "      <td>['5LiOoJbxVSAMkBS2fUm3X2']</td>\n",
              "      <td>1922-03-21</td>\n",
              "      <td>0.434</td>\n",
              "      <td>0.177</td>\n",
              "      <td>1</td>\n",
              "      <td>-21.18</td>\n",
              "      <td>1</td>\n",
              "      <td>0.0512</td>\n",
              "      <td>0.994</td>\n",
              "      <td>0.0218</td>\n",
              "      <td>0.212</td>\n",
              "      <td>0.457</td>\n",
              "      <td>130.418</td>\n",
              "      <td>5</td>\n",
              "    </tr>\n",
              "    <tr>\n",
              "      <th>3</th>\n",
              "      <td>08FmqUhxtyLTn6pAh6bk45</td>\n",
              "      <td>El Prisionero - Remasterizado</td>\n",
              "      <td>0</td>\n",
              "      <td>176907</td>\n",
              "      <td>0</td>\n",
              "      <td>['Ignacio Corsini']</td>\n",
              "      <td>['5LiOoJbxVSAMkBS2fUm3X2']</td>\n",
              "      <td>1922-03-21</td>\n",
              "      <td>0.321</td>\n",
              "      <td>0.0946</td>\n",
              "      <td>7</td>\n",
              "      <td>-27.961</td>\n",
              "      <td>1</td>\n",
              "      <td>0.0504</td>\n",
              "      <td>0.995</td>\n",
              "      <td>0.918</td>\n",
              "      <td>0.104</td>\n",
              "      <td>0.397</td>\n",
              "      <td>169.98</td>\n",
              "      <td>3</td>\n",
              "    </tr>\n",
              "    <tr>\n",
              "      <th>4</th>\n",
              "      <td>08y9GfoqCWfOGsKdwojr5e</td>\n",
              "      <td>Lady of the Evening</td>\n",
              "      <td>0</td>\n",
              "      <td>163080</td>\n",
              "      <td>0</td>\n",
              "      <td>['Dick Haymes']</td>\n",
              "      <td>['3BiJGZsyX9sJchTqcSA7Su']</td>\n",
              "      <td>1922</td>\n",
              "      <td>0.402</td>\n",
              "      <td>0.158</td>\n",
              "      <td>3</td>\n",
              "      <td>-16.9</td>\n",
              "      <td>0</td>\n",
              "      <td>0.039</td>\n",
              "      <td>0.989</td>\n",
              "      <td>0.13</td>\n",
              "      <td>0.311</td>\n",
              "      <td>0.196</td>\n",
              "      <td>103.22</td>\n",
              "      <td>4</td>\n",
              "    </tr>\n",
              "  </tbody>\n",
              "</table>\n",
              "</div>"
            ],
            "text/plain": [
              "                       id  ... time_signature\n",
              "0  35iwgR4jXetI318WEWsa1Q  ...              3\n",
              "1  021ht4sdgPcrDgSk7JTbKY  ...              1\n",
              "2  07A5yehtSnoedViJAZkNnc  ...              5\n",
              "3  08FmqUhxtyLTn6pAh6bk45  ...              3\n",
              "4  08y9GfoqCWfOGsKdwojr5e  ...              4\n",
              "\n",
              "[5 rows x 20 columns]"
            ]
          },
          "metadata": {
            "tags": []
          },
          "execution_count": 10
        }
      ]
    },
    {
      "cell_type": "code",
      "metadata": {
        "colab": {
          "base_uri": "https://localhost:8080/",
          "height": 204
        },
        "id": "b65vDSQzxsC-",
        "outputId": "22826d82-818d-4a15-f550-a90228c84420"
      },
      "source": [
        "artists_df['artists'] = artists_df['name']\n",
        "artists_df.head()"
      ],
      "execution_count": 15,
      "outputs": [
        {
          "output_type": "execute_result",
          "data": {
            "text/html": [
              "<div>\n",
              "<style scoped>\n",
              "    .dataframe tbody tr th:only-of-type {\n",
              "        vertical-align: middle;\n",
              "    }\n",
              "\n",
              "    .dataframe tbody tr th {\n",
              "        vertical-align: top;\n",
              "    }\n",
              "\n",
              "    .dataframe thead th {\n",
              "        text-align: right;\n",
              "    }\n",
              "</style>\n",
              "<table border=\"1\" class=\"dataframe\">\n",
              "  <thead>\n",
              "    <tr style=\"text-align: right;\">\n",
              "      <th></th>\n",
              "      <th>id</th>\n",
              "      <th>followers</th>\n",
              "      <th>genres</th>\n",
              "      <th>name</th>\n",
              "      <th>popularity</th>\n",
              "      <th>artists</th>\n",
              "    </tr>\n",
              "  </thead>\n",
              "  <tbody>\n",
              "    <tr>\n",
              "      <th>0</th>\n",
              "      <td>0DheY5irMjBUeLybbCUEZ2</td>\n",
              "      <td>0.0</td>\n",
              "      <td>[]</td>\n",
              "      <td>Armid &amp; Amir Zare Pashai feat. Sara Rouzbehani</td>\n",
              "      <td>0</td>\n",
              "      <td>Armid &amp; Amir Zare Pashai feat. Sara Rouzbehani</td>\n",
              "    </tr>\n",
              "    <tr>\n",
              "      <th>1</th>\n",
              "      <td>0DlhY15l3wsrnlfGio2bjU</td>\n",
              "      <td>5.0</td>\n",
              "      <td>[]</td>\n",
              "      <td>ปูนา ภาวิณี</td>\n",
              "      <td>0</td>\n",
              "      <td>ปูนา ภาวิณี</td>\n",
              "    </tr>\n",
              "    <tr>\n",
              "      <th>2</th>\n",
              "      <td>0DmRESX2JknGPQyO15yxg7</td>\n",
              "      <td>0.0</td>\n",
              "      <td>[]</td>\n",
              "      <td>Sadaa</td>\n",
              "      <td>0</td>\n",
              "      <td>Sadaa</td>\n",
              "    </tr>\n",
              "    <tr>\n",
              "      <th>3</th>\n",
              "      <td>0DmhnbHjm1qw6NCYPeZNgJ</td>\n",
              "      <td>0.0</td>\n",
              "      <td>[]</td>\n",
              "      <td>Tra'gruda</td>\n",
              "      <td>0</td>\n",
              "      <td>Tra'gruda</td>\n",
              "    </tr>\n",
              "    <tr>\n",
              "      <th>4</th>\n",
              "      <td>0Dn11fWM7vHQ3rinvWEl4E</td>\n",
              "      <td>2.0</td>\n",
              "      <td>[]</td>\n",
              "      <td>Ioannis Panoutsopoulos</td>\n",
              "      <td>0</td>\n",
              "      <td>Ioannis Panoutsopoulos</td>\n",
              "    </tr>\n",
              "  </tbody>\n",
              "</table>\n",
              "</div>"
            ],
            "text/plain": [
              "                       id  ...                                         artists\n",
              "0  0DheY5irMjBUeLybbCUEZ2  ...  Armid & Amir Zare Pashai feat. Sara Rouzbehani\n",
              "1  0DlhY15l3wsrnlfGio2bjU  ...                                     ปูนา ภาวิณี\n",
              "2  0DmRESX2JknGPQyO15yxg7  ...                                           Sadaa\n",
              "3  0DmhnbHjm1qw6NCYPeZNgJ  ...                                       Tra'gruda\n",
              "4  0Dn11fWM7vHQ3rinvWEl4E  ...                          Ioannis Panoutsopoulos\n",
              "\n",
              "[5 rows x 6 columns]"
            ]
          },
          "metadata": {
            "tags": []
          },
          "execution_count": 15
        }
      ]
    },
    {
      "cell_type": "code",
      "metadata": {
        "colab": {
          "base_uri": "https://localhost:8080/",
          "height": 326
        },
        "id": "e3hb198l2QAD",
        "outputId": "d66546d2-442d-4c9c-837c-964c88053175"
      },
      "source": [
        "# Merge the two dataframes\n",
        "# How to merge when columns have different name\n",
        "music_df = track_df.merge(artists_df, how='left')\n",
        "music_df.head()"
      ],
      "execution_count": 16,
      "outputs": [
        {
          "output_type": "execute_result",
          "data": {
            "text/html": [
              "<div>\n",
              "<style scoped>\n",
              "    .dataframe tbody tr th:only-of-type {\n",
              "        vertical-align: middle;\n",
              "    }\n",
              "\n",
              "    .dataframe tbody tr th {\n",
              "        vertical-align: top;\n",
              "    }\n",
              "\n",
              "    .dataframe thead th {\n",
              "        text-align: right;\n",
              "    }\n",
              "</style>\n",
              "<table border=\"1\" class=\"dataframe\">\n",
              "  <thead>\n",
              "    <tr style=\"text-align: right;\">\n",
              "      <th></th>\n",
              "      <th>id</th>\n",
              "      <th>name</th>\n",
              "      <th>popularity</th>\n",
              "      <th>duration_ms</th>\n",
              "      <th>explicit</th>\n",
              "      <th>artists</th>\n",
              "      <th>id_artists</th>\n",
              "      <th>release_date</th>\n",
              "      <th>danceability</th>\n",
              "      <th>energy</th>\n",
              "      <th>key</th>\n",
              "      <th>loudness</th>\n",
              "      <th>mode</th>\n",
              "      <th>speechiness</th>\n",
              "      <th>acousticness</th>\n",
              "      <th>instrumentalness</th>\n",
              "      <th>liveness</th>\n",
              "      <th>valence</th>\n",
              "      <th>tempo</th>\n",
              "      <th>time_signature</th>\n",
              "      <th>followers</th>\n",
              "      <th>genres</th>\n",
              "    </tr>\n",
              "  </thead>\n",
              "  <tbody>\n",
              "    <tr>\n",
              "      <th>0</th>\n",
              "      <td>35iwgR4jXetI318WEWsa1Q</td>\n",
              "      <td>Carve</td>\n",
              "      <td>6</td>\n",
              "      <td>126903</td>\n",
              "      <td>0</td>\n",
              "      <td>['Uli']</td>\n",
              "      <td>['45tIt06XoI0Iio4LBEVpls']</td>\n",
              "      <td>1922-02-22</td>\n",
              "      <td>0.645</td>\n",
              "      <td>0.445</td>\n",
              "      <td>0</td>\n",
              "      <td>-13.338</td>\n",
              "      <td>1</td>\n",
              "      <td>0.451</td>\n",
              "      <td>0.674</td>\n",
              "      <td>0.744</td>\n",
              "      <td>0.151</td>\n",
              "      <td>0.127</td>\n",
              "      <td>104.851</td>\n",
              "      <td>3</td>\n",
              "      <td>NaN</td>\n",
              "      <td>NaN</td>\n",
              "    </tr>\n",
              "    <tr>\n",
              "      <th>1</th>\n",
              "      <td>021ht4sdgPcrDgSk7JTbKY</td>\n",
              "      <td>Capítulo 2.16 - Banquero Anarquista</td>\n",
              "      <td>0</td>\n",
              "      <td>98200</td>\n",
              "      <td>0</td>\n",
              "      <td>['Fernando Pessoa']</td>\n",
              "      <td>['14jtPCOoNZwquk5wd9DxrY']</td>\n",
              "      <td>1922-06-01</td>\n",
              "      <td>0.695</td>\n",
              "      <td>0.263</td>\n",
              "      <td>0</td>\n",
              "      <td>-22.136</td>\n",
              "      <td>1</td>\n",
              "      <td>0.957</td>\n",
              "      <td>0.797</td>\n",
              "      <td>0.0</td>\n",
              "      <td>0.148</td>\n",
              "      <td>0.655</td>\n",
              "      <td>102.009</td>\n",
              "      <td>1</td>\n",
              "      <td>NaN</td>\n",
              "      <td>NaN</td>\n",
              "    </tr>\n",
              "    <tr>\n",
              "      <th>2</th>\n",
              "      <td>07A5yehtSnoedViJAZkNnc</td>\n",
              "      <td>Vivo para Quererte - Remasterizado</td>\n",
              "      <td>0</td>\n",
              "      <td>181640</td>\n",
              "      <td>0</td>\n",
              "      <td>['Ignacio Corsini']</td>\n",
              "      <td>['5LiOoJbxVSAMkBS2fUm3X2']</td>\n",
              "      <td>1922-03-21</td>\n",
              "      <td>0.434</td>\n",
              "      <td>0.177</td>\n",
              "      <td>1</td>\n",
              "      <td>-21.18</td>\n",
              "      <td>1</td>\n",
              "      <td>0.0512</td>\n",
              "      <td>0.994</td>\n",
              "      <td>0.0218</td>\n",
              "      <td>0.212</td>\n",
              "      <td>0.457</td>\n",
              "      <td>130.418</td>\n",
              "      <td>5</td>\n",
              "      <td>NaN</td>\n",
              "      <td>NaN</td>\n",
              "    </tr>\n",
              "    <tr>\n",
              "      <th>3</th>\n",
              "      <td>08FmqUhxtyLTn6pAh6bk45</td>\n",
              "      <td>El Prisionero - Remasterizado</td>\n",
              "      <td>0</td>\n",
              "      <td>176907</td>\n",
              "      <td>0</td>\n",
              "      <td>['Ignacio Corsini']</td>\n",
              "      <td>['5LiOoJbxVSAMkBS2fUm3X2']</td>\n",
              "      <td>1922-03-21</td>\n",
              "      <td>0.321</td>\n",
              "      <td>0.0946</td>\n",
              "      <td>7</td>\n",
              "      <td>-27.961</td>\n",
              "      <td>1</td>\n",
              "      <td>0.0504</td>\n",
              "      <td>0.995</td>\n",
              "      <td>0.918</td>\n",
              "      <td>0.104</td>\n",
              "      <td>0.397</td>\n",
              "      <td>169.98</td>\n",
              "      <td>3</td>\n",
              "      <td>NaN</td>\n",
              "      <td>NaN</td>\n",
              "    </tr>\n",
              "    <tr>\n",
              "      <th>4</th>\n",
              "      <td>08y9GfoqCWfOGsKdwojr5e</td>\n",
              "      <td>Lady of the Evening</td>\n",
              "      <td>0</td>\n",
              "      <td>163080</td>\n",
              "      <td>0</td>\n",
              "      <td>['Dick Haymes']</td>\n",
              "      <td>['3BiJGZsyX9sJchTqcSA7Su']</td>\n",
              "      <td>1922</td>\n",
              "      <td>0.402</td>\n",
              "      <td>0.158</td>\n",
              "      <td>3</td>\n",
              "      <td>-16.9</td>\n",
              "      <td>0</td>\n",
              "      <td>0.039</td>\n",
              "      <td>0.989</td>\n",
              "      <td>0.13</td>\n",
              "      <td>0.311</td>\n",
              "      <td>0.196</td>\n",
              "      <td>103.22</td>\n",
              "      <td>4</td>\n",
              "      <td>NaN</td>\n",
              "      <td>NaN</td>\n",
              "    </tr>\n",
              "  </tbody>\n",
              "</table>\n",
              "</div>"
            ],
            "text/plain": [
              "                       id                                 name  ... followers genres\n",
              "0  35iwgR4jXetI318WEWsa1Q                                Carve  ...       NaN    NaN\n",
              "1  021ht4sdgPcrDgSk7JTbKY  Capítulo 2.16 - Banquero Anarquista  ...       NaN    NaN\n",
              "2  07A5yehtSnoedViJAZkNnc   Vivo para Quererte - Remasterizado  ...       NaN    NaN\n",
              "3  08FmqUhxtyLTn6pAh6bk45        El Prisionero - Remasterizado  ...       NaN    NaN\n",
              "4  08y9GfoqCWfOGsKdwojr5e                  Lady of the Evening  ...       NaN    NaN\n",
              "\n",
              "[5 rows x 22 columns]"
            ]
          },
          "metadata": {
            "tags": []
          },
          "execution_count": 16
        }
      ]
    },
    {
      "cell_type": "code",
      "metadata": {
        "id": "BWPBUinEqEsK",
        "colab": {
          "base_uri": "https://localhost:8080/"
        },
        "outputId": "ef5d3c7c-86d2-4633-c210-1ac1a8122dd3"
      },
      "source": [
        "# Exploratory Data to understand how we need to preprocess\n",
        "# Explore popularity range - over 75? over 50?\n",
        "music_df.dtypes"
      ],
      "execution_count": 17,
      "outputs": [
        {
          "output_type": "execute_result",
          "data": {
            "text/plain": [
              "id                  object\n",
              "name                object\n",
              "popularity          object\n",
              "duration_ms         object\n",
              "explicit            object\n",
              "artists             object\n",
              "id_artists          object\n",
              "release_date        object\n",
              "danceability        object\n",
              "energy              object\n",
              "key                 object\n",
              "loudness            object\n",
              "mode                object\n",
              "speechiness         object\n",
              "acousticness        object\n",
              "instrumentalness    object\n",
              "liveness            object\n",
              "valence             object\n",
              "tempo               object\n",
              "time_signature      object\n",
              "followers           object\n",
              "genres              object\n",
              "dtype: object"
            ]
          },
          "metadata": {
            "tags": []
          },
          "execution_count": 17
        }
      ]
    },
    {
      "cell_type": "code",
      "metadata": {
        "id": "PPitpLSF8Isd"
      },
      "source": [
        "# Preprocessing\n",
        "# Drop columns that won't be useful to clustering that might predict genre\n",
        "spotify_df = music_df.drop(columns=['id', 'name', 'duration_ms', 'explicit', 'artists', 'release_date', 'followers', 'genres', 'id_artists'])\n",
        "spotify_df.head()"
      ],
      "execution_count": null,
      "outputs": []
    },
    {
      "cell_type": "code",
      "metadata": {
        "id": "wt1pUldMj_O5"
      },
      "source": [
        "# Convert to numeric data\n",
        "# df[\"A\"] = pd.to_numeric(df[\"A\"], downcast=\"float\")\n",
        "cols = ['popularity', 'danceability', 'energy', 'loudness', 'speechiness', 'acousticness', 'instrumentalness', 'liveness', 'valence', 'tempo']\n",
        "spotify_df[cols] = spotify_df[cols].apply(pd.to_numeric, errors='coerce', axis=1)"
      ],
      "execution_count": null,
      "outputs": []
    },
    {
      "cell_type": "code",
      "metadata": {
        "id": "nA_5vrMcuf3v"
      },
      "source": [
        "# Filter table by tracks with popularity above 50\n",
        "spotify_df = spotify_df[spotify_df['popularity'] >= 50]\n",
        "spotify_df.head()"
      ],
      "execution_count": null,
      "outputs": []
    },
    {
      "cell_type": "code",
      "metadata": {
        "id": "QE80W3JI_4PB"
      },
      "source": [
        "# Feature selection: \n",
        "# drop popularity?\n",
        "spotify_df_filter = spotify_df.drop(columns='popularity')"
      ],
      "execution_count": null,
      "outputs": []
    },
    {
      "cell_type": "code",
      "metadata": {
        "id": "UkBbSDulud43"
      },
      "source": [
        "# Drop null values\n",
        "spotify_df_filter = spotify_df_filter.dropna()"
      ],
      "execution_count": null,
      "outputs": []
    },
    {
      "cell_type": "code",
      "metadata": {
        "id": "u3lVJONAzmj7"
      },
      "source": [
        "# Use Hierarchical clustering\n",
        "# Read data from DB using PySpark\n",
        "# Load in Track.csv from S3 into a DataFrame\n",
        "\n",
        "# Normalize data\n",
        "from sklearn.preprocessing import normalize\n",
        "data_scaled = normalize(spotify_df_filter)\n",
        "data_scaled = pd.DataFrame(data_scaled, columns=data.columns)\n",
        "data_scaled.head()"
      ],
      "execution_count": null,
      "outputs": []
    },
    {
      "cell_type": "code",
      "metadata": {
        "id": "Y-tvzYCS72XC"
      },
      "source": [
        "\n",
        "# Create hierarchal clustering array using n_clusters determined from dendrogram analysis\n",
        "from sklearn.cluster import AgglomerativeClustering\n",
        "cluster = AgglomerativeClustering(n_clusters=X, affinity='euclidean', linkage='ward')  \n",
        "cluster.fit_predict(data_scaled)"
      ],
      "execution_count": null,
      "outputs": []
    },
    {
      "cell_type": "code",
      "metadata": {
        "id": "IbUGCpj67_Vc"
      },
      "source": [
        "# Plot scatter plot of clusters"
      ],
      "execution_count": null,
      "outputs": []
    },
    {
      "cell_type": "code",
      "metadata": {
        "id": "iG6WlYk0AB4V"
      },
      "source": [
        "# Does using PCA help? Some clusters are opposite/inverse of others, so it might hurt"
      ],
      "execution_count": null,
      "outputs": []
    },
    {
      "cell_type": "code",
      "metadata": {
        "id": "Xyw1yUADBPUC"
      },
      "source": [
        "# Go through a few models. 3 maybe? Why do I think the best performing model is best performing?\n",
        "\n",
        "# Notes from class! Is this data set actually labeled? Maybe I want to see if this can predict genre?\n",
        "# How would I design a neural network? Use that loop to pick the number of features?\n",
        "# How accurate/good is each model?\n",
        "# Were we able to use a simple model?\n",
        "# Do we get similar results each time? "
      ],
      "execution_count": null,
      "outputs": []
    },
    {
      "cell_type": "code",
      "metadata": {
        "id": "WeBb4eUvrzS_"
      },
      "source": [
        "# I'll do k means clustering and round it out with a neural network\n",
        "# Question is, can we predict the genre lable?\n",
        "# Talk about stuff over time for the tableau bit"
      ],
      "execution_count": null,
      "outputs": []
    },
    {
      "cell_type": "code",
      "metadata": {
        "id": "yBICku2h6FR5"
      },
      "source": [
        "#K Means Clustering\n",
        "#Begin with elbow graph to determine how many clusters we might want\n",
        "inertia = []\n",
        "k = list(range(1, 11))\n",
        "# Calculate the inertia for the range of K values\n",
        "for i in k:\n",
        "   km = KMeans(n_clusters=i, random_state=0)\n",
        "   km.fit(df_shopping)\n",
        "   inertia.append(km.inertia_)\n",
        "#Create elbow curve in hvPlot\n",
        "elbow_data = {\"k\":k, \"inertia\":inertia}\n",
        "df_elbow = pd.DataFrame(elbow_data)\n",
        "df_elbow.hvplot.line(x-\"k\", y=\"inertia\", xticks=k, title=\"Elbow Curve\")"
      ],
      "execution_count": null,
      "outputs": []
    },
    {
      "cell_type": "code",
      "metadata": {
        "id": "m2RlStjBhZjH"
      },
      "source": [
        "# Set X \n",
        "X = spotify_df\n",
        "X_scaled = StandardScaler().fit_transform(X)"
      ],
      "execution_count": null,
      "outputs": []
    },
    {
      "cell_type": "code",
      "metadata": {
        "id": "BVJVvY8yBWFS"
      },
      "source": [
        "# Create K Means Model with X clusters (from elbow plot)\n",
        "model = KMeans(n_clusters=3, random_state=42).fit(X_scaled)"
      ],
      "execution_count": null,
      "outputs": []
    },
    {
      "cell_type": "code",
      "metadata": {
        "id": "Y9C7m4qhBk_J"
      },
      "source": [
        "# Calculate predicted values.\n",
        "y_pred = model.predict(X_scaled)"
      ],
      "execution_count": null,
      "outputs": []
    },
    {
      "cell_type": "code",
      "metadata": {
        "id": "Dl5elaKvBrlQ"
      },
      "source": [
        "# Add predicted values onto the original dataframe\n",
        "df_y = pd.DataFrame(y_pred, columns=['Cluster'])\n",
        "combined = spotify_df.join(df_y, how='inner')\n",
        "combined.head()"
      ],
      "execution_count": null,
      "outputs": []
    },
    {
      "cell_type": "code",
      "metadata": {
        "id": "ZLticF67xDee"
      },
      "source": [
        "# Plot clusters\n",
        "# Create a scatterplot of spotify_df\n",
        "#df_iris.hvplot.scatter(x=\"SOME COLUMN\", y=\"SOME COLUMN\", by=\"SOME COLUMN\")\n",
        "fig.update_layout(legend=dict(x=0,y=1))\n",
        "fig.show()"
      ],
      "execution_count": null,
      "outputs": []
    },
    {
      "cell_type": "code",
      "metadata": {
        "id": "BNETqpqIi1Xz"
      },
      "source": [
        "#Neural Network\n",
        "# Import our dependencies\n",
        "from sklearn.model_selection import train_test_split\n",
        "from sklearn.preprocessing import StandardScaler,OneHotEncoder\n",
        "import tensorflow as tf"
      ],
      "execution_count": null,
      "outputs": []
    },
    {
      "cell_type": "code",
      "metadata": {
        "id": "dqAM0YSOkFmm"
      },
      "source": [
        "# Use the preprocessed data from the previous \n",
        "# Wait can I even use a normal neural network? \n",
        "# yes if I'm trying to guess popularity - simple under 50/over 50 or log regression?"
      ],
      "execution_count": null,
      "outputs": []
    }
  ]
}