{
  "nbformat": 4,
  "nbformat_minor": 0,
  "metadata": {
    "colab": {
      "name": "MCC_Loading_Data.ipynb",
      "provenance": [],
      "collapsed_sections": [],
      "include_colab_link": true
    },
    "kernelspec": {
      "name": "python3",
      "display_name": "Python 3"
    },
    "language_info": {
      "name": "python"
    }
  },
  "cells": [
    {
      "cell_type": "markdown",
      "metadata": {
        "id": "view-in-github",
        "colab_type": "text"
      },
      "source": [
        "<a href=\"https://colab.research.google.com/github/caseykotowski/Song-Features-Over-Time/blob/main/MCC_Loading_Data.ipynb\" target=\"_parent\"><img src=\"https://colab.research.google.com/assets/colab-badge.svg\" alt=\"Open In Colab\"/></a>"
      ]
    },
    {
      "cell_type": "code",
      "metadata": {
        "colab": {
          "base_uri": "https://localhost:8080/"
        },
        "id": "CB89JU_-xi6r",
        "outputId": "7aae1ff2-af6a-4d15-f24b-4e2c1593e0b2"
      },
      "source": [
        "import os\n",
        "# Find the latest version of spark 3.0  from http://www.apache.org/dist/spark/ and enter as the spark version\n",
        "# For example:\n",
        "# spark_version = 'spark-3.0.3'\n",
        "spark_version = 'spark-3.1.2'\n",
        "os.environ['SPARK_VERSION']=spark_version\n",
        "\n",
        "# Install Spark and Java\n",
        "!apt-get update\n",
        "!apt-get install openjdk-11-jdk-headless -qq > /dev/null\n",
        "!wget -q http://www.apache.org/dist/spark/$SPARK_VERSION/$SPARK_VERSION-bin-hadoop2.7.tgz\n",
        "!tar xf $SPARK_VERSION-bin-hadoop2.7.tgz\n",
        "!pip install -q findspark\n",
        "\n",
        "# Set Environment Variables\n",
        "import os\n",
        "os.environ[\"JAVA_HOME\"] = \"/usr/lib/jvm/java-11-openjdk-amd64\"\n",
        "os.environ[\"SPARK_HOME\"] = f\"/content/{spark_version}-bin-hadoop2.7\"\n",
        "\n",
        "# Start a SparkSession\n",
        "import findspark\n",
        "findspark.init()"
      ],
      "execution_count": 1,
      "outputs": [
        {
          "output_type": "stream",
          "text": [
            "Hit:1 https://cloud.r-project.org/bin/linux/ubuntu bionic-cran40/ InRelease\n",
            "Ign:2 https://developer.download.nvidia.com/compute/cuda/repos/ubuntu1804/x86_64  InRelease\n",
            "Get:3 http://security.ubuntu.com/ubuntu bionic-security InRelease [88.7 kB]\n",
            "Ign:4 https://developer.download.nvidia.com/compute/machine-learning/repos/ubuntu1804/x86_64  InRelease\n",
            "Hit:5 https://developer.download.nvidia.com/compute/cuda/repos/ubuntu1804/x86_64  Release\n",
            "Hit:6 https://developer.download.nvidia.com/compute/machine-learning/repos/ubuntu1804/x86_64  Release\n",
            "Get:7 http://ppa.launchpad.net/c2d4u.team/c2d4u4.0+/ubuntu bionic InRelease [15.9 kB]\n",
            "Hit:8 http://archive.ubuntu.com/ubuntu bionic InRelease\n",
            "Get:9 http://archive.ubuntu.com/ubuntu bionic-updates InRelease [88.7 kB]\n",
            "Hit:10 http://ppa.launchpad.net/cran/libgit2/ubuntu bionic InRelease\n",
            "Hit:12 http://ppa.launchpad.net/deadsnakes/ppa/ubuntu bionic InRelease\n",
            "Get:13 http://archive.ubuntu.com/ubuntu bionic-backports InRelease [74.6 kB]\n",
            "Hit:14 http://ppa.launchpad.net/graphics-drivers/ppa/ubuntu bionic InRelease\n",
            "Get:16 http://ppa.launchpad.net/c2d4u.team/c2d4u4.0+/ubuntu bionic/main amd64 Packages [917 kB]\n",
            "Fetched 1,185 kB in 4s (269 kB/s)\n",
            "Reading package lists... Done\n"
          ],
          "name": "stdout"
        }
      ]
    },
    {
      "cell_type": "code",
      "metadata": {
        "id": "LgtSGoeUzJ2F"
      },
      "source": [
        "# Start Spark session\n",
        "from pyspark.sql import SparkSession\n",
        "spark = SparkSession.builder.appName(\"LoadingData\").config(\"spark.driver.extraClassPath\",\"/content/postgresql-42.2.16.jar\").getOrCreate()"
      ],
      "execution_count": 2,
      "outputs": []
    },
    {
      "cell_type": "markdown",
      "metadata": {
        "id": "-qPl0wJGYeb6"
      },
      "source": [
        "# Load data from S3 Buckets into Spark DataFrame"
      ]
    },
    {
      "cell_type": "code",
      "metadata": {
        "id": "XF_9JV3y0b6-"
      },
      "source": [
        "# Read in data from S3 Buckets\n",
        "from pyspark import SparkFiles\n",
        "url = \"https://data-bucket-calixto.s3.us-east-2.amazonaws.com/tracks.csv\"\n",
        "spark.sparkContext.addFile(url)\n",
        "df = spark.read.csv(SparkFiles.get(\"tracks.csv\"), sep=\",\", header=True)"
      ],
      "execution_count": 3,
      "outputs": []
    },
    {
      "cell_type": "code",
      "metadata": {
        "colab": {
          "base_uri": "https://localhost:8080/"
        },
        "id": "ZLKrp5mZwHpJ",
        "outputId": "0ad683a0-f812-43cb-c5fd-7bccb00c370b"
      },
      "source": [
        "#confirm commas are separating columns as intended\n",
        "\n",
        "df.where(df.id=='3hOdlX5u3WGoLjegO9XvRz').show()\n",
        "\n"
      ],
      "execution_count": 4,
      "outputs": [
        {
          "output_type": "stream",
          "text": [
            "+--------------------+--------------------+----------+-----------+--------+--------------------+--------------------+------------+------------+------+---+--------+----+-----------+------------+----------------+--------+-------+-------+--------------+\n",
            "|                  id|                name|popularity|duration_ms|explicit|             artists|          id_artists|release_date|danceability|energy|key|loudness|mode|speechiness|acousticness|instrumentalness|liveness|valence|  tempo|time_signature|\n",
            "+--------------------+--------------------+----------+-----------+--------+--------------------+--------------------+------------+------------+------+---+--------+----+-----------+------------+----------------+--------+-------+-------+--------------+\n",
            "|3hOdlX5u3WGoLjegO...|\"Wunderbar - from...|         0|     215467|       0|['Alfred Drake'; ...|['7DDaQqjdIkLxhp1...|        1932|       0.319| 0.263|  8| -12.354|   1|     0.0643|       0.961|               0|   0.343|  0.224|169.047|             4|\n",
            "+--------------------+--------------------+----------+-----------+--------+--------------------+--------------------+------------+------------+------+---+--------+----+-----------+------------+----------------+--------+-------+-------+--------------+\n",
            "\n"
          ],
          "name": "stdout"
        }
      ]
    },
    {
      "cell_type": "code",
      "metadata": {
        "colab": {
          "base_uri": "https://localhost:8080/"
        },
        "id": "HaCUfzLx1gw-",
        "outputId": "9606e676-1695-4d99-a4e5-86eedee9a0d3"
      },
      "source": [
        "# Show DataFrame\n",
        "df.show()"
      ],
      "execution_count": 5,
      "outputs": [
        {
          "output_type": "stream",
          "text": [
            "+--------------------+--------------------+----------+-----------+--------+-------------------+--------------------+------------+------------+------+---+--------+----+-----------+------------+----------------+--------+-------+-------+--------------+\n",
            "|                  id|                name|popularity|duration_ms|explicit|            artists|          id_artists|release_date|danceability|energy|key|loudness|mode|speechiness|acousticness|instrumentalness|liveness|valence|  tempo|time_signature|\n",
            "+--------------------+--------------------+----------+-----------+--------+-------------------+--------------------+------------+------------+------+---+--------+----+-----------+------------+----------------+--------+-------+-------+--------------+\n",
            "|35iwgR4jXetI318WE...|               Carve|         6|     126903|       0|            ['Uli']|['45tIt06XoI0Iio4...|   2/22/1922|       0.645| 0.445|  0| -13.338|   1|      0.451|       0.674|           0.744|   0.151|  0.127|104.851|             3|\n",
            "|021ht4sdgPcrDgSk7...|Capítulo 2.16 - B...|         0|      98200|       0|['Fernando Pessoa']|['14jtPCOoNZwquk5...|    6/1/1922|       0.695| 0.263|  0| -22.136|   1|      0.957|       0.797|               0|   0.148|  0.655|102.009|             1|\n",
            "|07A5yehtSnoedViJA...|Vivo para Querert...|         0|     181640|       0|['Ignacio Corsini']|['5LiOoJbxVSAMkBS...|   3/21/1922|       0.434| 0.177|  1|  -21.18|   1|     0.0512|       0.994|          0.0218|   0.212|  0.457|130.418|             5|\n",
            "|08FmqUhxtyLTn6pAh...|El Prisionero - R...|         0|     176907|       0|['Ignacio Corsini']|['5LiOoJbxVSAMkBS...|   3/21/1922|       0.321|0.0946|  7| -27.961|   1|     0.0504|       0.995|           0.918|   0.104|  0.397| 169.98|             3|\n",
            "|08y9GfoqCWfOGsKdw...| Lady of the Evening|         0|     163080|       0|    ['Dick Haymes']|['3BiJGZsyX9sJchT...|        1922|       0.402| 0.158|  3|   -16.9|   0|      0.039|       0.989|            0.13|   0.311|  0.196| 103.22|             4|\n",
            "|0BRXJHRNGQ3W4v9fr...|           Ave Maria|         0|     178933|       0|    ['Dick Haymes']|['3BiJGZsyX9sJchT...|        1922|       0.227| 0.261|  5| -12.343|   1|     0.0382|       0.994|           0.247|  0.0977| 0.0539|118.891|             4|\n",
            "|0Dd9ImXtAtGwsmsAD...|      La Butte Rouge|         0|     134467|       0|  ['Francis Marty']|['2nuMRGzeJ5jJEKl...|        1922|        0.51| 0.355|  4| -12.833|   1|      0.124|       0.965|               0|   0.155|  0.727| 85.754|             5|\n",
            "|0IA0Hju8CAgYfV1hw...|             La Java|         0|     161427|       0|    ['Mistinguett']|['4AxgXfD7ISvJSTO...|        1922|       0.563| 0.184|  4| -13.757|   1|     0.0512|       0.993|        1.55E-05|   0.325|  0.654|133.088|             3|\n",
            "|0IgI1UCz84pYeVetn...|  Old Fashioned Girl|         0|     310073|       0|    ['Greg Fieler']|['5nWlsH5RDgFuRAi...|        1922|       0.488| 0.475|  0| -16.222|   0|     0.0399|        0.62|         0.00645|   0.107|  0.544|139.952|             4|\n",
            "|0JV4iqw2lSKJaHBQZ...|Martín Fierro - R...|         0|     181173|       0|['Ignacio Corsini']|['5LiOoJbxVSAMkBS...|   3/29/1922|       0.548|0.0391|  6| -23.228|   1|      0.153|       0.996|           0.933|   0.148|  0.612| 75.595|             3|\n",
            "|0OYGe21oScKJfanLy...|Capítulo 2.8 - Ba...|         0|      99100|       0|['Fernando Pessoa']|['14jtPCOoNZwquk5...|    6/1/1922|       0.676| 0.235| 11| -22.447|   0|       0.96|       0.794|               0|    0.21|  0.724| 96.777|             3|\n",
            "|0PE42H6tslQuyMMiG...|Capítulo 2.25 - B...|         0|     132700|       0|['Fernando Pessoa']|['14jtPCOoNZwquk5...|    6/1/1922|        0.75| 0.229|  2| -22.077|   1|      0.955|       0.578|               0|   0.314|  0.531|102.629|             3|\n",
            "|0PH9AACae1f957JAa...|            Lazy Boi|         0|     157333|       0|            ['Uli']|['45tIt06XoI0Iio4...|   2/22/1922|       0.298|  0.46|  1| -18.645|   1|      0.453|       0.521|           0.856|   0.436|  0.402| 87.921|             4|\n",
            "|0QiT0Oo5QdLXdFw6R...|Tu Verras Montmartre|         1|     186800|       0|   ['Lucien Boyer']|['4mSouLpNSEY1d7O...|        1922|       0.703|  0.28|  0|  -15.39|   1|      0.174|       0.995|        6.84E-05|   0.163|  0.897|127.531|             4|\n",
            "|0TWsNj5iSvbMTtbED...|Elle Prend L'boul...|         0|     172027|       0|    ['Félix Mayol']|['7DIlOK9L8d0IQ7X...|        1922|       0.709| 0.289|  2| -14.978|   1|       0.18|       0.967|               0|   0.119|   0.84|107.515|             4|\n",
            "|0cC9CYjLRIzwchQ42...|Capítulo 1.23 - B...|         0|      96600|       0|['Fernando Pessoa']|['14jtPCOoNZwquk5...|    6/1/1922|       0.687| 0.198|  4| -24.264|   0|      0.962|       0.754|               0|   0.197|  0.478| 78.453|             1|\n",
            "|0eb1PfHxT6HnXvvdU...|Capítulo 1.18 - B...|         0|     103200|       0|['Fernando Pessoa']|['14jtPCOoNZwquk5...|    6/1/1922|         0.8| 0.171|  8| -24.384|   1|      0.953|        0.67|               0|   0.123|  0.693| 59.613|             3|\n",
            "|0grXU6GKVNCVMJbse...|Capítulo 1.10 - B...|         0|      95800|       0|['Fernando Pessoa']|['14jtPCOoNZwquk5...|    6/1/1922|         0.7| 0.208|  2| -23.874|   1|      0.956|       0.691|               0|   0.441|  0.613| 85.739|             1|\n",
            "|0kCB1bDVBC8gWCFcn...|  Ca C'est Une Chose|         0|     188000|       0| ['Victor Boucher']|['7vVR02JJYvsEAEP...|        1922|       0.352| 0.334|  5| -13.038|   1|     0.0594|       0.996|         0.00746|    0.36|  0.414| 76.403|             4|\n",
            "|0l3BQsVJ7F76wlN5Q...|El Vendaval - Rem...|         0|     153533|       0|['Ignacio Corsini']|['5LiOoJbxVSAMkBS...|   3/21/1922|        0.37| 0.372|  2| -17.138|   1|     0.0865|       0.985|        0.000681|   0.929|  0.753|159.669|             4|\n",
            "+--------------------+--------------------+----------+-----------+--------+-------------------+--------------------+------------+------------+------+---+--------+----+-----------+------------+----------------+--------+-------+-------+--------------+\n",
            "only showing top 20 rows\n",
            "\n"
          ],
          "name": "stdout"
        }
      ]
    },
    {
      "cell_type": "code",
      "metadata": {
        "colab": {
          "base_uri": "https://localhost:8080/"
        },
        "id": "NkJIOo-812DV",
        "outputId": "59896112-d568-47f2-f48c-d8ca5054a2fd"
      },
      "source": [
        "# Print our schema\n",
        "df.printSchema()"
      ],
      "execution_count": 6,
      "outputs": [
        {
          "output_type": "stream",
          "text": [
            "root\n",
            " |-- id: string (nullable = true)\n",
            " |-- name: string (nullable = true)\n",
            " |-- popularity: string (nullable = true)\n",
            " |-- duration_ms: string (nullable = true)\n",
            " |-- explicit: string (nullable = true)\n",
            " |-- artists: string (nullable = true)\n",
            " |-- id_artists: string (nullable = true)\n",
            " |-- release_date: string (nullable = true)\n",
            " |-- danceability: string (nullable = true)\n",
            " |-- energy: string (nullable = true)\n",
            " |-- key: string (nullable = true)\n",
            " |-- loudness: string (nullable = true)\n",
            " |-- mode: string (nullable = true)\n",
            " |-- speechiness: string (nullable = true)\n",
            " |-- acousticness: string (nullable = true)\n",
            " |-- instrumentalness: string (nullable = true)\n",
            " |-- liveness: string (nullable = true)\n",
            " |-- valence: string (nullable = true)\n",
            " |-- tempo: string (nullable = true)\n",
            " |-- time_signature: string (nullable = true)\n",
            "\n"
          ],
          "name": "stdout"
        }
      ]
    },
    {
      "cell_type": "code",
      "metadata": {
        "colab": {
          "base_uri": "https://localhost:8080/"
        },
        "id": "k7F1LXdfZVIH",
        "outputId": "a41610f3-54d4-43f0-e5d2-973fcbfeeb79"
      },
      "source": [
        "# Read in artist data from S3 Buckets\n",
        "from pyspark import SparkFiles\n",
        "url = \"https://data-bucket-calixto.s3.us-east-2.amazonaws.com/artists.csv\"\n",
        "spark.sparkContext.addFile(url)\n",
        "a_df = spark.read.csv(SparkFiles.get(\"artists.csv\"), sep=\",\", header=True)\n",
        "\n",
        "# Show DataFrame\n",
        "a_df.show()"
      ],
      "execution_count": 7,
      "outputs": [
        {
          "output_type": "stream",
          "text": [
            "+--------------------+---------+------+--------------------+----------+\n",
            "|                  id|followers|genres|                name|popularity|\n",
            "+--------------------+---------+------+--------------------+----------+\n",
            "|0DheY5irMjBUeLybb...|        0|    []|Armid & Amir Zare...|         0|\n",
            "|0DlhY15l3wsrnlfGi...|        5|    []|         ปูนา ภาวิณี|         0|\n",
            "|0DmRESX2JknGPQyO1...|        0|    []|               Sadaa|         0|\n",
            "|0DmhnbHjm1qw6NCYP...|        0|    []|           Tra'gruda|         0|\n",
            "|0Dn11fWM7vHQ3rinv...|        2|    []|Ioannis Panoutsop...|         0|\n",
            "|0DotfDlYMGqkbzfBh...|        7|    []|       Astral Affect|         0|\n",
            "|0DqP3bOCiC48L8SM9...|        1|    []|           Yung Seed|         0|\n",
            "|0Drs3maQb99iRglyT...|        0|    []|               Wi'Ma|         0|\n",
            "|0DsPeAi1gxPPnYjgp...|        0|    []|             lentboy|         0|\n",
            "|0DtvnTxgZ9K5YaPS5...|       20|    []|            addworks|         0|\n",
            "|0Du4t8UK1lBD8TnOI...|        1|    []|         Harrbazzter|         0|\n",
            "|0DuJ5k2ERoAizEdgU...|        0|    []|      Helena Brunner|         0|\n",
            "|0DujX6vG6qOz2wVBC...|        0|    []|      Deezy McDuffie|         0|\n",
            "|0DvBSYDq5ikdlKgp9...|        1|    []|       Riyaz Azaimar|         0|\n",
            "|0DvvojCMIqsOT1Bti...|      422|    []|       Sidonie Radio|         0|\n",
            "|0DxcE03jyjg3wQVHU...|        0|    []|          Le Chamête|         0|\n",
            "|0DxsGcq4ILa7Ss2Cm...|        0|    []|            Lipin. P|         0|\n",
            "|0DzKNJPHYPMaLDxDV...|        4|    []|        Breakingnews|         0|\n",
            "|0DzfuBZVzDryD5ZqK...|        0|    []|      TINY x dr.KONG|         0|\n",
            "|0DzvgthIK2nmlAPE0...|        0|    []|              Stan P|         0|\n",
            "+--------------------+---------+------+--------------------+----------+\n",
            "only showing top 20 rows\n",
            "\n"
          ],
          "name": "stdout"
        }
      ]
    },
    {
      "cell_type": "code",
      "metadata": {
        "colab": {
          "base_uri": "https://localhost:8080/"
        },
        "id": "nli8slMmZrvI",
        "outputId": "fefe59d7-9e3d-41bc-e5c7-67418e0fbcdb"
      },
      "source": [
        "a_df.printSchema()"
      ],
      "execution_count": 8,
      "outputs": [
        {
          "output_type": "stream",
          "text": [
            "root\n",
            " |-- id: string (nullable = true)\n",
            " |-- followers: string (nullable = true)\n",
            " |-- genres: string (nullable = true)\n",
            " |-- name: string (nullable = true)\n",
            " |-- popularity: string (nullable = true)\n",
            "\n"
          ],
          "name": "stdout"
        }
      ]
    },
    {
      "cell_type": "code",
      "metadata": {
        "colab": {
          "base_uri": "https://localhost:8080/"
        },
        "id": "2HcyW2dY8WnJ",
        "outputId": "3626478c-e253-4d03-f306-87008498b1b3"
      },
      "source": [
        "a_df = a_df.drop(\"followers\")\n",
        "a_df.printSchema()"
      ],
      "execution_count": 9,
      "outputs": [
        {
          "output_type": "stream",
          "text": [
            "root\n",
            " |-- id: string (nullable = true)\n",
            " |-- genres: string (nullable = true)\n",
            " |-- name: string (nullable = true)\n",
            " |-- popularity: string (nullable = true)\n",
            "\n"
          ],
          "name": "stdout"
        }
      ]
    },
    {
      "cell_type": "markdown",
      "metadata": {
        "id": "vc-q2AqTbmPK"
      },
      "source": [
        "# Clean up Data"
      ]
    },
    {
      "cell_type": "code",
      "metadata": {
        "id": "JK4dCv_i2TRF",
        "colab": {
          "base_uri": "https://localhost:8080/"
        },
        "outputId": "de838f3f-a9be-4d95-d38c-f747e3014a6e"
      },
      "source": [
        "print(df.count())\n",
        "df.dropna()\n",
        "print(df.count())\n",
        "df.dropDuplicates()\n",
        "print(df.count())"
      ],
      "execution_count": 10,
      "outputs": [
        {
          "output_type": "stream",
          "text": [
            "586672\n",
            "586672\n",
            "586672\n"
          ],
          "name": "stdout"
        }
      ]
    },
    {
      "cell_type": "markdown",
      "metadata": {
        "id": "JUvL7qX0Djvj"
      },
      "source": [
        "# Replace special characters from Tracks table"
      ]
    },
    {
      "cell_type": "code",
      "metadata": {
        "id": "5vF-GCLc9F-K"
      },
      "source": [
        "import pyspark.sql.functions as F\n",
        "import re"
      ],
      "execution_count": 11,
      "outputs": []
    },
    {
      "cell_type": "code",
      "metadata": {
        "colab": {
          "base_uri": "https://localhost:8080/"
        },
        "id": "zKDKNHJNClu2",
        "outputId": "43ecae29-ff66-461d-ea0a-9c08cae62475"
      },
      "source": [
        "df = df.withColumn(\"id_artists\", F.regexp_replace(F.regexp_replace(\"id_artists\", \"\\\\['\", \"\"), \"\\\\']\", \"\"))\n",
        "df.show()"
      ],
      "execution_count": 12,
      "outputs": [
        {
          "output_type": "stream",
          "text": [
            "+--------------------+--------------------+----------+-----------+--------+-------------------+--------------------+------------+------------+------+---+--------+----+-----------+------------+----------------+--------+-------+-------+--------------+\n",
            "|                  id|                name|popularity|duration_ms|explicit|            artists|          id_artists|release_date|danceability|energy|key|loudness|mode|speechiness|acousticness|instrumentalness|liveness|valence|  tempo|time_signature|\n",
            "+--------------------+--------------------+----------+-----------+--------+-------------------+--------------------+------------+------------+------+---+--------+----+-----------+------------+----------------+--------+-------+-------+--------------+\n",
            "|35iwgR4jXetI318WE...|               Carve|         6|     126903|       0|            ['Uli']|45tIt06XoI0Iio4LB...|   2/22/1922|       0.645| 0.445|  0| -13.338|   1|      0.451|       0.674|           0.744|   0.151|  0.127|104.851|             3|\n",
            "|021ht4sdgPcrDgSk7...|Capítulo 2.16 - B...|         0|      98200|       0|['Fernando Pessoa']|14jtPCOoNZwquk5wd...|    6/1/1922|       0.695| 0.263|  0| -22.136|   1|      0.957|       0.797|               0|   0.148|  0.655|102.009|             1|\n",
            "|07A5yehtSnoedViJA...|Vivo para Querert...|         0|     181640|       0|['Ignacio Corsini']|5LiOoJbxVSAMkBS2f...|   3/21/1922|       0.434| 0.177|  1|  -21.18|   1|     0.0512|       0.994|          0.0218|   0.212|  0.457|130.418|             5|\n",
            "|08FmqUhxtyLTn6pAh...|El Prisionero - R...|         0|     176907|       0|['Ignacio Corsini']|5LiOoJbxVSAMkBS2f...|   3/21/1922|       0.321|0.0946|  7| -27.961|   1|     0.0504|       0.995|           0.918|   0.104|  0.397| 169.98|             3|\n",
            "|08y9GfoqCWfOGsKdw...| Lady of the Evening|         0|     163080|       0|    ['Dick Haymes']|3BiJGZsyX9sJchTqc...|        1922|       0.402| 0.158|  3|   -16.9|   0|      0.039|       0.989|            0.13|   0.311|  0.196| 103.22|             4|\n",
            "|0BRXJHRNGQ3W4v9fr...|           Ave Maria|         0|     178933|       0|    ['Dick Haymes']|3BiJGZsyX9sJchTqc...|        1922|       0.227| 0.261|  5| -12.343|   1|     0.0382|       0.994|           0.247|  0.0977| 0.0539|118.891|             4|\n",
            "|0Dd9ImXtAtGwsmsAD...|      La Butte Rouge|         0|     134467|       0|  ['Francis Marty']|2nuMRGzeJ5jJEKlfS...|        1922|        0.51| 0.355|  4| -12.833|   1|      0.124|       0.965|               0|   0.155|  0.727| 85.754|             5|\n",
            "|0IA0Hju8CAgYfV1hw...|             La Java|         0|     161427|       0|    ['Mistinguett']|4AxgXfD7ISvJSTObq...|        1922|       0.563| 0.184|  4| -13.757|   1|     0.0512|       0.993|        1.55E-05|   0.325|  0.654|133.088|             3|\n",
            "|0IgI1UCz84pYeVetn...|  Old Fashioned Girl|         0|     310073|       0|    ['Greg Fieler']|5nWlsH5RDgFuRAiDe...|        1922|       0.488| 0.475|  0| -16.222|   0|     0.0399|        0.62|         0.00645|   0.107|  0.544|139.952|             4|\n",
            "|0JV4iqw2lSKJaHBQZ...|Martín Fierro - R...|         0|     181173|       0|['Ignacio Corsini']|5LiOoJbxVSAMkBS2f...|   3/29/1922|       0.548|0.0391|  6| -23.228|   1|      0.153|       0.996|           0.933|   0.148|  0.612| 75.595|             3|\n",
            "|0OYGe21oScKJfanLy...|Capítulo 2.8 - Ba...|         0|      99100|       0|['Fernando Pessoa']|14jtPCOoNZwquk5wd...|    6/1/1922|       0.676| 0.235| 11| -22.447|   0|       0.96|       0.794|               0|    0.21|  0.724| 96.777|             3|\n",
            "|0PE42H6tslQuyMMiG...|Capítulo 2.25 - B...|         0|     132700|       0|['Fernando Pessoa']|14jtPCOoNZwquk5wd...|    6/1/1922|        0.75| 0.229|  2| -22.077|   1|      0.955|       0.578|               0|   0.314|  0.531|102.629|             3|\n",
            "|0PH9AACae1f957JAa...|            Lazy Boi|         0|     157333|       0|            ['Uli']|45tIt06XoI0Iio4LB...|   2/22/1922|       0.298|  0.46|  1| -18.645|   1|      0.453|       0.521|           0.856|   0.436|  0.402| 87.921|             4|\n",
            "|0QiT0Oo5QdLXdFw6R...|Tu Verras Montmartre|         1|     186800|       0|   ['Lucien Boyer']|4mSouLpNSEY1d7OdI...|        1922|       0.703|  0.28|  0|  -15.39|   1|      0.174|       0.995|        6.84E-05|   0.163|  0.897|127.531|             4|\n",
            "|0TWsNj5iSvbMTtbED...|Elle Prend L'boul...|         0|     172027|       0|    ['Félix Mayol']|7DIlOK9L8d0IQ7Xk8...|        1922|       0.709| 0.289|  2| -14.978|   1|       0.18|       0.967|               0|   0.119|   0.84|107.515|             4|\n",
            "|0cC9CYjLRIzwchQ42...|Capítulo 1.23 - B...|         0|      96600|       0|['Fernando Pessoa']|14jtPCOoNZwquk5wd...|    6/1/1922|       0.687| 0.198|  4| -24.264|   0|      0.962|       0.754|               0|   0.197|  0.478| 78.453|             1|\n",
            "|0eb1PfHxT6HnXvvdU...|Capítulo 1.18 - B...|         0|     103200|       0|['Fernando Pessoa']|14jtPCOoNZwquk5wd...|    6/1/1922|         0.8| 0.171|  8| -24.384|   1|      0.953|        0.67|               0|   0.123|  0.693| 59.613|             3|\n",
            "|0grXU6GKVNCVMJbse...|Capítulo 1.10 - B...|         0|      95800|       0|['Fernando Pessoa']|14jtPCOoNZwquk5wd...|    6/1/1922|         0.7| 0.208|  2| -23.874|   1|      0.956|       0.691|               0|   0.441|  0.613| 85.739|             1|\n",
            "|0kCB1bDVBC8gWCFcn...|  Ca C'est Une Chose|         0|     188000|       0| ['Victor Boucher']|7vVR02JJYvsEAEPNH...|        1922|       0.352| 0.334|  5| -13.038|   1|     0.0594|       0.996|         0.00746|    0.36|  0.414| 76.403|             4|\n",
            "|0l3BQsVJ7F76wlN5Q...|El Vendaval - Rem...|         0|     153533|       0|['Ignacio Corsini']|5LiOoJbxVSAMkBS2f...|   3/21/1922|        0.37| 0.372|  2| -17.138|   1|     0.0865|       0.985|        0.000681|   0.929|  0.753|159.669|             4|\n",
            "+--------------------+--------------------+----------+-----------+--------+-------------------+--------------------+------------+------------+------+---+--------+----+-----------+------------+----------------+--------+-------+-------+--------------+\n",
            "only showing top 20 rows\n",
            "\n"
          ],
          "name": "stdout"
        }
      ]
    },
    {
      "cell_type": "code",
      "metadata": {
        "colab": {
          "base_uri": "https://localhost:8080/"
        },
        "id": "WGQmHljuN-lP",
        "outputId": "ec14226f-16ac-44db-9740-d241caf65380"
      },
      "source": [
        "df = df.withColumn(\"artists\", F.regexp_replace(F.regexp_replace(\"artists\", \"\\\\['\", \"\"), \"\\\\']\", \"\"))\n",
        "df.show()"
      ],
      "execution_count": 13,
      "outputs": [
        {
          "output_type": "stream",
          "text": [
            "+--------------------+--------------------+----------+-----------+--------+---------------+--------------------+------------+------------+------+---+--------+----+-----------+------------+----------------+--------+-------+-------+--------------+\n",
            "|                  id|                name|popularity|duration_ms|explicit|        artists|          id_artists|release_date|danceability|energy|key|loudness|mode|speechiness|acousticness|instrumentalness|liveness|valence|  tempo|time_signature|\n",
            "+--------------------+--------------------+----------+-----------+--------+---------------+--------------------+------------+------------+------+---+--------+----+-----------+------------+----------------+--------+-------+-------+--------------+\n",
            "|35iwgR4jXetI318WE...|               Carve|         6|     126903|       0|            Uli|45tIt06XoI0Iio4LB...|   2/22/1922|       0.645| 0.445|  0| -13.338|   1|      0.451|       0.674|           0.744|   0.151|  0.127|104.851|             3|\n",
            "|021ht4sdgPcrDgSk7...|Capítulo 2.16 - B...|         0|      98200|       0|Fernando Pessoa|14jtPCOoNZwquk5wd...|    6/1/1922|       0.695| 0.263|  0| -22.136|   1|      0.957|       0.797|               0|   0.148|  0.655|102.009|             1|\n",
            "|07A5yehtSnoedViJA...|Vivo para Querert...|         0|     181640|       0|Ignacio Corsini|5LiOoJbxVSAMkBS2f...|   3/21/1922|       0.434| 0.177|  1|  -21.18|   1|     0.0512|       0.994|          0.0218|   0.212|  0.457|130.418|             5|\n",
            "|08FmqUhxtyLTn6pAh...|El Prisionero - R...|         0|     176907|       0|Ignacio Corsini|5LiOoJbxVSAMkBS2f...|   3/21/1922|       0.321|0.0946|  7| -27.961|   1|     0.0504|       0.995|           0.918|   0.104|  0.397| 169.98|             3|\n",
            "|08y9GfoqCWfOGsKdw...| Lady of the Evening|         0|     163080|       0|    Dick Haymes|3BiJGZsyX9sJchTqc...|        1922|       0.402| 0.158|  3|   -16.9|   0|      0.039|       0.989|            0.13|   0.311|  0.196| 103.22|             4|\n",
            "|0BRXJHRNGQ3W4v9fr...|           Ave Maria|         0|     178933|       0|    Dick Haymes|3BiJGZsyX9sJchTqc...|        1922|       0.227| 0.261|  5| -12.343|   1|     0.0382|       0.994|           0.247|  0.0977| 0.0539|118.891|             4|\n",
            "|0Dd9ImXtAtGwsmsAD...|      La Butte Rouge|         0|     134467|       0|  Francis Marty|2nuMRGzeJ5jJEKlfS...|        1922|        0.51| 0.355|  4| -12.833|   1|      0.124|       0.965|               0|   0.155|  0.727| 85.754|             5|\n",
            "|0IA0Hju8CAgYfV1hw...|             La Java|         0|     161427|       0|    Mistinguett|4AxgXfD7ISvJSTObq...|        1922|       0.563| 0.184|  4| -13.757|   1|     0.0512|       0.993|        1.55E-05|   0.325|  0.654|133.088|             3|\n",
            "|0IgI1UCz84pYeVetn...|  Old Fashioned Girl|         0|     310073|       0|    Greg Fieler|5nWlsH5RDgFuRAiDe...|        1922|       0.488| 0.475|  0| -16.222|   0|     0.0399|        0.62|         0.00645|   0.107|  0.544|139.952|             4|\n",
            "|0JV4iqw2lSKJaHBQZ...|Martín Fierro - R...|         0|     181173|       0|Ignacio Corsini|5LiOoJbxVSAMkBS2f...|   3/29/1922|       0.548|0.0391|  6| -23.228|   1|      0.153|       0.996|           0.933|   0.148|  0.612| 75.595|             3|\n",
            "|0OYGe21oScKJfanLy...|Capítulo 2.8 - Ba...|         0|      99100|       0|Fernando Pessoa|14jtPCOoNZwquk5wd...|    6/1/1922|       0.676| 0.235| 11| -22.447|   0|       0.96|       0.794|               0|    0.21|  0.724| 96.777|             3|\n",
            "|0PE42H6tslQuyMMiG...|Capítulo 2.25 - B...|         0|     132700|       0|Fernando Pessoa|14jtPCOoNZwquk5wd...|    6/1/1922|        0.75| 0.229|  2| -22.077|   1|      0.955|       0.578|               0|   0.314|  0.531|102.629|             3|\n",
            "|0PH9AACae1f957JAa...|            Lazy Boi|         0|     157333|       0|            Uli|45tIt06XoI0Iio4LB...|   2/22/1922|       0.298|  0.46|  1| -18.645|   1|      0.453|       0.521|           0.856|   0.436|  0.402| 87.921|             4|\n",
            "|0QiT0Oo5QdLXdFw6R...|Tu Verras Montmartre|         1|     186800|       0|   Lucien Boyer|4mSouLpNSEY1d7OdI...|        1922|       0.703|  0.28|  0|  -15.39|   1|      0.174|       0.995|        6.84E-05|   0.163|  0.897|127.531|             4|\n",
            "|0TWsNj5iSvbMTtbED...|Elle Prend L'boul...|         0|     172027|       0|    Félix Mayol|7DIlOK9L8d0IQ7Xk8...|        1922|       0.709| 0.289|  2| -14.978|   1|       0.18|       0.967|               0|   0.119|   0.84|107.515|             4|\n",
            "|0cC9CYjLRIzwchQ42...|Capítulo 1.23 - B...|         0|      96600|       0|Fernando Pessoa|14jtPCOoNZwquk5wd...|    6/1/1922|       0.687| 0.198|  4| -24.264|   0|      0.962|       0.754|               0|   0.197|  0.478| 78.453|             1|\n",
            "|0eb1PfHxT6HnXvvdU...|Capítulo 1.18 - B...|         0|     103200|       0|Fernando Pessoa|14jtPCOoNZwquk5wd...|    6/1/1922|         0.8| 0.171|  8| -24.384|   1|      0.953|        0.67|               0|   0.123|  0.693| 59.613|             3|\n",
            "|0grXU6GKVNCVMJbse...|Capítulo 1.10 - B...|         0|      95800|       0|Fernando Pessoa|14jtPCOoNZwquk5wd...|    6/1/1922|         0.7| 0.208|  2| -23.874|   1|      0.956|       0.691|               0|   0.441|  0.613| 85.739|             1|\n",
            "|0kCB1bDVBC8gWCFcn...|  Ca C'est Une Chose|         0|     188000|       0| Victor Boucher|7vVR02JJYvsEAEPNH...|        1922|       0.352| 0.334|  5| -13.038|   1|     0.0594|       0.996|         0.00746|    0.36|  0.414| 76.403|             4|\n",
            "|0l3BQsVJ7F76wlN5Q...|El Vendaval - Rem...|         0|     153533|       0|Ignacio Corsini|5LiOoJbxVSAMkBS2f...|   3/21/1922|        0.37| 0.372|  2| -17.138|   1|     0.0865|       0.985|        0.000681|   0.929|  0.753|159.669|             4|\n",
            "+--------------------+--------------------+----------+-----------+--------+---------------+--------------------+------------+------------+------+---+--------+----+-----------+------------+----------------+--------+-------+-------+--------------+\n",
            "only showing top 20 rows\n",
            "\n"
          ],
          "name": "stdout"
        }
      ]
    },
    {
      "cell_type": "markdown",
      "metadata": {
        "id": "f_BIpUxoDw4H"
      },
      "source": [
        "# Remove special characters from Artists table"
      ]
    },
    {
      "cell_type": "code",
      "metadata": {
        "colab": {
          "base_uri": "https://localhost:8080/"
        },
        "id": "6Or6e7B3EbeP",
        "outputId": "7a850d59-c546-4fc3-d7ef-db3c1cd20370"
      },
      "source": [
        "a_df = a_df.withColumn(\"genres\", F.regexp_replace(F.regexp_replace(\"genres\", \"\\\\['\", \"\"), \"\\\\']\", \"\"))\n",
        "a_df.show(100)"
      ],
      "execution_count": 14,
      "outputs": [
        {
          "output_type": "stream",
          "text": [
            "+--------------------+--------------+------------------------+----------+\n",
            "|                  id|        genres|                    name|popularity|\n",
            "+--------------------+--------------+------------------------+----------+\n",
            "|0DheY5irMjBUeLybb...|            []|    Armid & Amir Zare...|         0|\n",
            "|0DlhY15l3wsrnlfGi...|            []|             ปูนา ภาวิณี|         0|\n",
            "|0DmRESX2JknGPQyO1...|            []|                   Sadaa|         0|\n",
            "|0DmhnbHjm1qw6NCYP...|            []|               Tra'gruda|         0|\n",
            "|0Dn11fWM7vHQ3rinv...|            []|    Ioannis Panoutsop...|         0|\n",
            "|0DotfDlYMGqkbzfBh...|            []|           Astral Affect|         0|\n",
            "|0DqP3bOCiC48L8SM9...|            []|               Yung Seed|         0|\n",
            "|0Drs3maQb99iRglyT...|            []|                   Wi'Ma|         0|\n",
            "|0DsPeAi1gxPPnYjgp...|            []|                 lentboy|         0|\n",
            "|0DtvnTxgZ9K5YaPS5...|            []|                addworks|         0|\n",
            "|0Du4t8UK1lBD8TnOI...|            []|             Harrbazzter|         0|\n",
            "|0DuJ5k2ERoAizEdgU...|            []|          Helena Brunner|         0|\n",
            "|0DujX6vG6qOz2wVBC...|            []|          Deezy McDuffie|         0|\n",
            "|0DvBSYDq5ikdlKgp9...|            []|           Riyaz Azaimar|         0|\n",
            "|0DvvojCMIqsOT1Bti...|            []|           Sidonie Radio|         0|\n",
            "|0DxcE03jyjg3wQVHU...|            []|              Le Chamête|         0|\n",
            "|0DxsGcq4ILa7Ss2Cm...|            []|                Lipin. P|         0|\n",
            "|0DzKNJPHYPMaLDxDV...|            []|            Breakingnews|         0|\n",
            "|0DzfuBZVzDryD5ZqK...|            []|          TINY x dr.KONG|         0|\n",
            "|0DzvgthIK2nmlAPE0...|            []|                  Stan P|         0|\n",
            "|0E01IqK2Q0vhDHOrQ...|            []|                 Smockda|         0|\n",
            "|0E0SpAZoIxSSvBefC...|            []|                 El Bago|         0|\n",
            "|0E0afUR6aObnzDTMv...|            []|          Kazuki Komatsu|         0|\n",
            "|0E0eEzoo3nfBf5efm...|            []|           Omar Ferreyra|         0|\n",
            "|0E0n2GRFDjxWw3NiI...|            []|               Los Argon|         0|\n",
            "|0E1g9toY6vQ4ANdEW...|            []|           Uhmforcestare|         0|\n",
            "|0E2KoM6UMbdCUigMu...|            []|          Wemerson Paulo|         0|\n",
            "|0E2f4liezEM9Q9OpI...|            []|                Snathers|         0|\n",
            "|0E3abAxpm40VzlkhF...|            []|               Joel Tepp|         0|\n",
            "|0E3hfspo8Y6JaVY7h...|            []|      Letters to Lillian|         0|\n",
            "|0E65ao0wq06lp4F8s...|            []|              King Cappo|         0|\n",
            "|0E6Aro4b963h7TPeC...|            []|              Beppie Kra|         0|\n",
            "|0E6Fm3v7ftnQ9kIqf...|            []|    Valdo Reis e Platini|         0|\n",
            "|0E6Hp8xNT93q3ydBu...|            []|          Semina Insania|         0|\n",
            "|0E6xQFR342J2GVLjQ...|            []|             G Scrap Loc|         0|\n",
            "|0E7fAP8hg5YsmoqHE...|            []|                   Thre3|         0|\n",
            "|0E80AIHqkMgmEbcCZ...|            []|            Santy & Neko|         0|\n",
            "|0E8WJ6ltRtLTRhEQv...|            []|     Huni'G And His Band|         0|\n",
            "|0E8xqvEmMJQNbUMSZ...|            []|                  SEOBIN|         0|\n",
            "|0E9BbNtN2oExFDtFi...|            []|               Blacc Ops|         0|\n",
            "|0E9GBw9Q4QKswEISE...|            []|                 Zakaray|         0|\n",
            "|0EAIiKCDPXGtXEflU...|            []|        Uncle Alice Band|         0|\n",
            "|0EBhDCuHoIkatzCoq...|            []|         Digital Pugsley|         0|\n",
            "|0EDdx2mtOtph1rDex...|            []|           Robert Barone|         0|\n",
            "|6S3nAGEmdt4nhPrtB...|            []|            William Pitt|         8|\n",
            "|0VLMVnVbJyJ4oyZs2...|carnaval cadiz|    Las Viudas De Los...|         6|\n",
            "|0dt23bs4w8zx154C5...|carnaval cadiz|       Los De Capuchinos|         5|\n",
            "|0pGhoB99qpEJEsBQx...|carnaval cadiz|      Los “Pofesionales”|         7|\n",
            "|3HDrX2OtSuXLW5dLR...|carnaval cadiz|    Los Que No Paran ...|         6|\n",
            "|0CLwCkyQAQh3aaIVc...|            []|           THELMA GARCIA|         0|\n",
            "|0CMj2r0cVxhFyJ7JK...|            []|                 Koke Jc|         0|\n",
            "|0CPJ0OH0nNPyutuSD...|            []|             Andre Rocha|         0|\n",
            "|0CQOV1r9SODIMxUKf...|            []|Mitrasphere -ミトラス...|         0|\n",
            "|0CQnm2S7xXkfKAZBn...|            []|   桜井のぞみ (石原夏織)|         0|\n",
            "|0CYb1GLJyCd9YsDy1...|            []|    N.O.B a.k.a. COCO...|         0|\n",
            "|0Cat0Vcsy8IvLMHQY...|            []|            Luke Garison|         0|\n",
            "|0CcJoVb594zyyzV1g...|            []|               DJ Cronic|         0|\n",
            "|0AZanUIYLgaLUv6JP...|            []|              Fairchilds|         0|\n",
            "|0FlEKY0DAdwVppVT5...|            []|            Samuel Reyes|         0|\n",
            "|0FlIz3WjAXTExCeWD...|            []|                 Fnr Tez|         0|\n",
            "|0FlUvcVD3WSjL1cCx...|            []|                   Janan|         0|\n",
            "|0FmAcFoHbWoOIiJT8...|            []|             iamjustdrew|         0|\n",
            "|0Fmrf9QtehWo5XivM...|            []|               Jaii Peso|         0|\n",
            "|0Fn4AAkdzNJ8d6GXf...|            []|                  아응아|         0|\n",
            "|0FnMqa1dpreetgg2f...|            []|             Elise Popma|         0|\n",
            "|0FnegoCz1hBUwxIJ5...|            []|                  Alykam|         0|\n",
            "|0FoCXmWSoIGHTWynz...|            []|                      [j|         0|\n",
            "|0FoIW5oXgJqe2qZv4...|            []|                 Koo Guy|         0|\n",
            "|0FpAizL4ViVWwwxgu...|            []|       Salvatore Gravino|         0|\n",
            "|0FqXFytrDEQneVZ66...|            []|              Black Jade|         0|\n",
            "|0FqzpHdzqDtTf69aB...|            []|               Dre Rozay|         0|\n",
            "|0Fr9aue7RrkljEiis...|            []|       Jeet Fatehgarhiya|         0|\n",
            "|0FrKXkadGI9XIYtHW...|            []|              Joy Farmer|         0|\n",
            "|0FrUyJMAY6I3W0OQQ...|            []|                  Egrojj|         0|\n",
            "|0FriSDHrgYxYDM9Fw...|            []|          Insane Duchess|         0|\n",
            "|0FrzYPJCeWvJQasKG...|            []|            DaneTheGreat|         0|\n",
            "|0FsR85VYCi3F5W6gZ...|            []|                KingKeyy|         0|\n",
            "|0Fso98ZlRTCBtkDom...|            []|           Sello Lephosa|         0|\n",
            "|0Ft8borU3EjHQnJdO...|            []|               Dj Formal|         0|\n",
            "|0FtbOQA0alUQSKQPE...|            []|                 Setsuka|         0|\n",
            "|0FtcQko2Wq1Wz2ByA...|            []|                   Matth|         0|\n",
            "|0FuOtcekzQPV88pvw...|            []|            Javier Jofré|         0|\n",
            "|0FuWWsAZFQbQfUFhO...|            []|         Kamlesh Rajbhar|         0|\n",
            "|0FubKw8QsNSjeGd6X...|            []|        Big Chad Daminko|         0|\n",
            "|0FuodMZtQAg59Ecfc...|            []|        Starlin Browning|         0|\n",
            "|0FvnGcM4CRonJDq4v...|            []|          Jhayla Simmons|         0|\n",
            "|0FvsVWobzdZkG4Ddo...|            []|    Banda Arrepio do ...|         0|\n",
            "|0Fw4jGXXHGWmSVGNa...|            []|                 Htweezy|         0|\n",
            "|0FwQCDim58OUiXj9j...|            []|                  若林潤|         0|\n",
            "|0FwRZNm6qVL1Lbq2d...|            []|          Archan Trivedi|         0|\n",
            "|0FwT5eGbftBUVsWAV...|            []|                   Eniks|         0|\n",
            "|0FwfQahyfRMBfwS35...|            []|             Estodoynada|         0|\n",
            "|0FwpYhP41wVFvqUIz...|            []|         Nouaamane Media|         0|\n",
            "|0FwyyQGLxYxavQyVU...|            []|             Flat Region|         0|\n",
            "|0FxgbHEKHPV4NUyXc...|            []|               Calvin Es|         0|\n",
            "|0FxhAfvCH5BCMAda7...|            []|               Tony Fcee|         0|\n",
            "|0KqbCJ52M2IeX9MZO...|            []|    Relaxing Music Pl...|         0|\n",
            "|0Kr1sWSwNTv46gdNH...|            []|        Bharti Prajapati|         0|\n",
            "|0Kr4BIMlQVjRalTBK...|            []|              Ava Bell 5|         0|\n",
            "|0Kr56HcJFhJLcAaLW...|            []|            MellowSavage|         0|\n",
            "+--------------------+--------------+------------------------+----------+\n",
            "only showing top 100 rows\n",
            "\n"
          ],
          "name": "stdout"
        }
      ]
    },
    {
      "cell_type": "code",
      "metadata": {
        "colab": {
          "base_uri": "https://localhost:8080/"
        },
        "id": "I80VuTxJDb_B",
        "outputId": "c232a8a1-5bb3-4ea0-b27c-eafb87b5150c"
      },
      "source": [
        "a_df = a_df.withColumn(\"genres\", F.regexp_replace(\"genres\", \"\\\\[]\", \"\"))\n",
        "a_df.show(100)"
      ],
      "execution_count": 15,
      "outputs": [
        {
          "output_type": "stream",
          "text": [
            "+--------------------+--------------+------------------------+----------+\n",
            "|                  id|        genres|                    name|popularity|\n",
            "+--------------------+--------------+------------------------+----------+\n",
            "|0DheY5irMjBUeLybb...|              |    Armid & Amir Zare...|         0|\n",
            "|0DlhY15l3wsrnlfGi...|              |             ปูนา ภาวิณี|         0|\n",
            "|0DmRESX2JknGPQyO1...|              |                   Sadaa|         0|\n",
            "|0DmhnbHjm1qw6NCYP...|              |               Tra'gruda|         0|\n",
            "|0Dn11fWM7vHQ3rinv...|              |    Ioannis Panoutsop...|         0|\n",
            "|0DotfDlYMGqkbzfBh...|              |           Astral Affect|         0|\n",
            "|0DqP3bOCiC48L8SM9...|              |               Yung Seed|         0|\n",
            "|0Drs3maQb99iRglyT...|              |                   Wi'Ma|         0|\n",
            "|0DsPeAi1gxPPnYjgp...|              |                 lentboy|         0|\n",
            "|0DtvnTxgZ9K5YaPS5...|              |                addworks|         0|\n",
            "|0Du4t8UK1lBD8TnOI...|              |             Harrbazzter|         0|\n",
            "|0DuJ5k2ERoAizEdgU...|              |          Helena Brunner|         0|\n",
            "|0DujX6vG6qOz2wVBC...|              |          Deezy McDuffie|         0|\n",
            "|0DvBSYDq5ikdlKgp9...|              |           Riyaz Azaimar|         0|\n",
            "|0DvvojCMIqsOT1Bti...|              |           Sidonie Radio|         0|\n",
            "|0DxcE03jyjg3wQVHU...|              |              Le Chamête|         0|\n",
            "|0DxsGcq4ILa7Ss2Cm...|              |                Lipin. P|         0|\n",
            "|0DzKNJPHYPMaLDxDV...|              |            Breakingnews|         0|\n",
            "|0DzfuBZVzDryD5ZqK...|              |          TINY x dr.KONG|         0|\n",
            "|0DzvgthIK2nmlAPE0...|              |                  Stan P|         0|\n",
            "|0E01IqK2Q0vhDHOrQ...|              |                 Smockda|         0|\n",
            "|0E0SpAZoIxSSvBefC...|              |                 El Bago|         0|\n",
            "|0E0afUR6aObnzDTMv...|              |          Kazuki Komatsu|         0|\n",
            "|0E0eEzoo3nfBf5efm...|              |           Omar Ferreyra|         0|\n",
            "|0E0n2GRFDjxWw3NiI...|              |               Los Argon|         0|\n",
            "|0E1g9toY6vQ4ANdEW...|              |           Uhmforcestare|         0|\n",
            "|0E2KoM6UMbdCUigMu...|              |          Wemerson Paulo|         0|\n",
            "|0E2f4liezEM9Q9OpI...|              |                Snathers|         0|\n",
            "|0E3abAxpm40VzlkhF...|              |               Joel Tepp|         0|\n",
            "|0E3hfspo8Y6JaVY7h...|              |      Letters to Lillian|         0|\n",
            "|0E65ao0wq06lp4F8s...|              |              King Cappo|         0|\n",
            "|0E6Aro4b963h7TPeC...|              |              Beppie Kra|         0|\n",
            "|0E6Fm3v7ftnQ9kIqf...|              |    Valdo Reis e Platini|         0|\n",
            "|0E6Hp8xNT93q3ydBu...|              |          Semina Insania|         0|\n",
            "|0E6xQFR342J2GVLjQ...|              |             G Scrap Loc|         0|\n",
            "|0E7fAP8hg5YsmoqHE...|              |                   Thre3|         0|\n",
            "|0E80AIHqkMgmEbcCZ...|              |            Santy & Neko|         0|\n",
            "|0E8WJ6ltRtLTRhEQv...|              |     Huni'G And His Band|         0|\n",
            "|0E8xqvEmMJQNbUMSZ...|              |                  SEOBIN|         0|\n",
            "|0E9BbNtN2oExFDtFi...|              |               Blacc Ops|         0|\n",
            "|0E9GBw9Q4QKswEISE...|              |                 Zakaray|         0|\n",
            "|0EAIiKCDPXGtXEflU...|              |        Uncle Alice Band|         0|\n",
            "|0EBhDCuHoIkatzCoq...|              |         Digital Pugsley|         0|\n",
            "|0EDdx2mtOtph1rDex...|              |           Robert Barone|         0|\n",
            "|6S3nAGEmdt4nhPrtB...|              |            William Pitt|         8|\n",
            "|0VLMVnVbJyJ4oyZs2...|carnaval cadiz|    Las Viudas De Los...|         6|\n",
            "|0dt23bs4w8zx154C5...|carnaval cadiz|       Los De Capuchinos|         5|\n",
            "|0pGhoB99qpEJEsBQx...|carnaval cadiz|      Los “Pofesionales”|         7|\n",
            "|3HDrX2OtSuXLW5dLR...|carnaval cadiz|    Los Que No Paran ...|         6|\n",
            "|0CLwCkyQAQh3aaIVc...|              |           THELMA GARCIA|         0|\n",
            "|0CMj2r0cVxhFyJ7JK...|              |                 Koke Jc|         0|\n",
            "|0CPJ0OH0nNPyutuSD...|              |             Andre Rocha|         0|\n",
            "|0CQOV1r9SODIMxUKf...|              |Mitrasphere -ミトラス...|         0|\n",
            "|0CQnm2S7xXkfKAZBn...|              |   桜井のぞみ (石原夏織)|         0|\n",
            "|0CYb1GLJyCd9YsDy1...|              |    N.O.B a.k.a. COCO...|         0|\n",
            "|0Cat0Vcsy8IvLMHQY...|              |            Luke Garison|         0|\n",
            "|0CcJoVb594zyyzV1g...|              |               DJ Cronic|         0|\n",
            "|0AZanUIYLgaLUv6JP...|              |              Fairchilds|         0|\n",
            "|0FlEKY0DAdwVppVT5...|              |            Samuel Reyes|         0|\n",
            "|0FlIz3WjAXTExCeWD...|              |                 Fnr Tez|         0|\n",
            "|0FlUvcVD3WSjL1cCx...|              |                   Janan|         0|\n",
            "|0FmAcFoHbWoOIiJT8...|              |             iamjustdrew|         0|\n",
            "|0Fmrf9QtehWo5XivM...|              |               Jaii Peso|         0|\n",
            "|0Fn4AAkdzNJ8d6GXf...|              |                  아응아|         0|\n",
            "|0FnMqa1dpreetgg2f...|              |             Elise Popma|         0|\n",
            "|0FnegoCz1hBUwxIJ5...|              |                  Alykam|         0|\n",
            "|0FoCXmWSoIGHTWynz...|              |                      [j|         0|\n",
            "|0FoIW5oXgJqe2qZv4...|              |                 Koo Guy|         0|\n",
            "|0FpAizL4ViVWwwxgu...|              |       Salvatore Gravino|         0|\n",
            "|0FqXFytrDEQneVZ66...|              |              Black Jade|         0|\n",
            "|0FqzpHdzqDtTf69aB...|              |               Dre Rozay|         0|\n",
            "|0Fr9aue7RrkljEiis...|              |       Jeet Fatehgarhiya|         0|\n",
            "|0FrKXkadGI9XIYtHW...|              |              Joy Farmer|         0|\n",
            "|0FrUyJMAY6I3W0OQQ...|              |                  Egrojj|         0|\n",
            "|0FriSDHrgYxYDM9Fw...|              |          Insane Duchess|         0|\n",
            "|0FrzYPJCeWvJQasKG...|              |            DaneTheGreat|         0|\n",
            "|0FsR85VYCi3F5W6gZ...|              |                KingKeyy|         0|\n",
            "|0Fso98ZlRTCBtkDom...|              |           Sello Lephosa|         0|\n",
            "|0Ft8borU3EjHQnJdO...|              |               Dj Formal|         0|\n",
            "|0FtbOQA0alUQSKQPE...|              |                 Setsuka|         0|\n",
            "|0FtcQko2Wq1Wz2ByA...|              |                   Matth|         0|\n",
            "|0FuOtcekzQPV88pvw...|              |            Javier Jofré|         0|\n",
            "|0FuWWsAZFQbQfUFhO...|              |         Kamlesh Rajbhar|         0|\n",
            "|0FubKw8QsNSjeGd6X...|              |        Big Chad Daminko|         0|\n",
            "|0FuodMZtQAg59Ecfc...|              |        Starlin Browning|         0|\n",
            "|0FvnGcM4CRonJDq4v...|              |          Jhayla Simmons|         0|\n",
            "|0FvsVWobzdZkG4Ddo...|              |    Banda Arrepio do ...|         0|\n",
            "|0Fw4jGXXHGWmSVGNa...|              |                 Htweezy|         0|\n",
            "|0FwQCDim58OUiXj9j...|              |                  若林潤|         0|\n",
            "|0FwRZNm6qVL1Lbq2d...|              |          Archan Trivedi|         0|\n",
            "|0FwT5eGbftBUVsWAV...|              |                   Eniks|         0|\n",
            "|0FwfQahyfRMBfwS35...|              |             Estodoynada|         0|\n",
            "|0FwpYhP41wVFvqUIz...|              |         Nouaamane Media|         0|\n",
            "|0FwyyQGLxYxavQyVU...|              |             Flat Region|         0|\n",
            "|0FxgbHEKHPV4NUyXc...|              |               Calvin Es|         0|\n",
            "|0FxhAfvCH5BCMAda7...|              |               Tony Fcee|         0|\n",
            "|0KqbCJ52M2IeX9MZO...|              |    Relaxing Music Pl...|         0|\n",
            "|0Kr1sWSwNTv46gdNH...|              |        Bharti Prajapati|         0|\n",
            "|0Kr4BIMlQVjRalTBK...|              |              Ava Bell 5|         0|\n",
            "|0Kr56HcJFhJLcAaLW...|              |            MellowSavage|         0|\n",
            "+--------------------+--------------+------------------------+----------+\n",
            "only showing top 100 rows\n",
            "\n"
          ],
          "name": "stdout"
        }
      ]
    },
    {
      "cell_type": "markdown",
      "metadata": {
        "id": "l-SNbzTWVmvt"
      },
      "source": [
        "# Write DataFrame to RDS"
      ]
    },
    {
      "cell_type": "code",
      "metadata": {
        "colab": {
          "base_uri": "https://localhost:8080/"
        },
        "id": "KJa_R3SDv_C7",
        "outputId": "4510f184-a9e2-4555-deed-4e64b1b5cfc6"
      },
      "source": [
        "# Download the Postgres driver that will allow Spark to interact with Postgres.\n",
        "!wget https://jdbc.postgresql.org/download/postgresql-42.2.16.jar"
      ],
      "execution_count": 16,
      "outputs": [
        {
          "output_type": "stream",
          "text": [
            "--2021-08-23 04:24:01--  https://jdbc.postgresql.org/download/postgresql-42.2.16.jar\n",
            "Resolving jdbc.postgresql.org (jdbc.postgresql.org)... 72.32.157.228, 2001:4800:3e1:1::228\n",
            "Connecting to jdbc.postgresql.org (jdbc.postgresql.org)|72.32.157.228|:443... connected.\n",
            "HTTP request sent, awaiting response... 200 OK\n",
            "Length: 1002883 (979K) [application/java-archive]\n",
            "Saving to: ‘postgresql-42.2.16.jar.1’\n",
            "\n",
            "postgresql-42.2.16. 100%[===================>] 979.38K  4.84MB/s    in 0.2s    \n",
            "\n",
            "2021-08-23 04:24:02 (4.84 MB/s) - ‘postgresql-42.2.16.jar.1’ saved [1002883/1002883]\n",
            "\n"
          ],
          "name": "stdout"
        }
      ]
    },
    {
      "cell_type": "code",
      "metadata": {
        "colab": {
          "base_uri": "https://localhost:8080/"
        },
        "id": "KAi79to7mqZR",
        "outputId": "d3320016-b859-409a-d190-4576abab24dd"
      },
      "source": [
        "# Store environmental variable\n",
        "from getpass import getpass\n",
        "password = getpass('Enter database password')"
      ],
      "execution_count": 17,
      "outputs": [
        {
          "output_type": "stream",
          "text": [
            "Enter database password··········\n"
          ],
          "name": "stdout"
        }
      ]
    },
    {
      "cell_type": "code",
      "metadata": {
        "id": "yKKT-xcfVk-i"
      },
      "source": [
        " # Configuration for RDS instance\n",
        "mode = \"append\"\n",
        "jdbc_url=\"jdbc:postgresql://spotify-db.c3uki6gnymem.us-east-2.rds.amazonaws.com:5432/spotify\"\n",
        "config = {\"user\":\"root\", \n",
        "          \"password\": password, \n",
        "          \"driver\":\"org.postgresql.Driver\"}"
      ],
      "execution_count": 18,
      "outputs": []
    },
    {
      "cell_type": "code",
      "metadata": {
        "id": "LJbmVGv0j39b"
      },
      "source": [
        "df.write.jdbc(url=jdbc_url, table=\"track_info\", mode=\"append\", properties=config)"
      ],
      "execution_count": 19,
      "outputs": []
    },
    {
      "cell_type": "code",
      "metadata": {
        "id": "0IXPuaJevjn_"
      },
      "source": [
        "a_df.write.jdbc(url=jdbc_url, table=\"artist_info\", mode=mode, properties=config)"
      ],
      "execution_count": 20,
      "outputs": []
    },
    {
      "cell_type": "markdown",
      "metadata": {
        "id": "cEg5nl-cExRn"
      },
      "source": [
        "# Export to csv"
      ]
    },
    {
      "cell_type": "code",
      "metadata": {
        "id": "dJPBjXoIEvVd"
      },
      "source": [
        "df.toPandas().to_csv('tracks.csv')\n"
      ],
      "execution_count": 21,
      "outputs": []
    },
    {
      "cell_type": "code",
      "metadata": {
        "id": "2V-cMHocFFY6"
      },
      "source": [
        "a_df.toPandas().to_csv('artists.csv')"
      ],
      "execution_count": 22,
      "outputs": []
    }
  ]
}