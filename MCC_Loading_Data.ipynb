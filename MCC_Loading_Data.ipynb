{
  "nbformat": 4,
  "nbformat_minor": 0,
  "metadata": {
    "colab": {
      "name": "MCC_Loading_Data.ipynb",
      "provenance": [],
      "collapsed_sections": [],
      "include_colab_link": true
    },
    "kernelspec": {
      "name": "python3",
      "display_name": "Python 3"
    },
    "language_info": {
      "name": "python"
    }
  },
  "cells": [
    {
      "cell_type": "markdown",
      "metadata": {
        "id": "view-in-github",
        "colab_type": "text"
      },
      "source": [
        "<a href=\"https://colab.research.google.com/github/caseykotowski/Song-Features-Over-Time/blob/DB_Segment2_MCC/MCC_Loading_Data.ipynb\" target=\"_parent\"><img src=\"https://colab.research.google.com/assets/colab-badge.svg\" alt=\"Open In Colab\"/></a>"
      ]
    },
    {
      "cell_type": "code",
      "metadata": {
        "colab": {
          "base_uri": "https://localhost:8080/"
        },
        "id": "CB89JU_-xi6r",
        "outputId": "3561c6a3-973b-439c-c585-832af76a6e06"
      },
      "source": [
        "import os\n",
        "# Find the latest version of spark 3.0  from http://www.apache.org/dist/spark/ and enter as the spark version\n",
        "# For example:\n",
        "# spark_version = 'spark-3.0.3'\n",
        "spark_version = 'spark-3.1.2'\n",
        "os.environ['SPARK_VERSION']=spark_version\n",
        "\n",
        "# Install Spark and Java\n",
        "!apt-get update\n",
        "!apt-get install openjdk-11-jdk-headless -qq > /dev/null\n",
        "!wget -q http://www.apache.org/dist/spark/$SPARK_VERSION/$SPARK_VERSION-bin-hadoop2.7.tgz\n",
        "!tar xf $SPARK_VERSION-bin-hadoop2.7.tgz\n",
        "!pip install -q findspark\n",
        "\n",
        "# Set Environment Variables\n",
        "import os\n",
        "os.environ[\"JAVA_HOME\"] = \"/usr/lib/jvm/java-11-openjdk-amd64\"\n",
        "os.environ[\"SPARK_HOME\"] = f\"/content/{spark_version}-bin-hadoop2.7\"\n",
        "\n",
        "# Start a SparkSession\n",
        "import findspark\n",
        "findspark.init()"
      ],
      "execution_count": 14,
      "outputs": [
        {
          "output_type": "stream",
          "text": [
            "Hit:1 http://security.ubuntu.com/ubuntu bionic-security InRelease\n",
            "Ign:2 https://developer.download.nvidia.com/compute/cuda/repos/ubuntu1804/x86_64  InRelease\n",
            "Hit:3 https://cloud.r-project.org/bin/linux/ubuntu bionic-cran40/ InRelease\n",
            "Get:4 http://ppa.launchpad.net/c2d4u.team/c2d4u4.0+/ubuntu bionic InRelease [15.9 kB]\n",
            "Hit:5 http://archive.ubuntu.com/ubuntu bionic InRelease\n",
            "Ign:6 https://developer.download.nvidia.com/compute/machine-learning/repos/ubuntu1804/x86_64  InRelease\n",
            "Hit:7 https://developer.download.nvidia.com/compute/cuda/repos/ubuntu1804/x86_64  Release\n",
            "Hit:8 https://developer.download.nvidia.com/compute/machine-learning/repos/ubuntu1804/x86_64  Release\n",
            "Hit:9 http://archive.ubuntu.com/ubuntu bionic-updates InRelease\n",
            "Hit:10 http://archive.ubuntu.com/ubuntu bionic-backports InRelease\n",
            "Hit:11 http://ppa.launchpad.net/cran/libgit2/ubuntu bionic InRelease\n",
            "Hit:12 http://ppa.launchpad.net/deadsnakes/ppa/ubuntu bionic InRelease\n",
            "Hit:13 http://ppa.launchpad.net/graphics-drivers/ppa/ubuntu bionic InRelease\n",
            "Get:16 http://ppa.launchpad.net/c2d4u.team/c2d4u4.0+/ubuntu bionic/main Sources [1,789 kB]\n",
            "Fetched 1,805 kB in 3s (669 kB/s)\n",
            "Reading package lists... Done\n"
          ],
          "name": "stdout"
        }
      ]
    },
    {
      "cell_type": "code",
      "metadata": {
        "id": "LgtSGoeUzJ2F"
      },
      "source": [
        "# Start Spark session\n",
        "from pyspark.sql import SparkSession\n",
        "spark = SparkSession.builder.appName(\"LoadingData\").getOrCreate()"
      ],
      "execution_count": 15,
      "outputs": []
    },
    {
      "cell_type": "markdown",
      "metadata": {
        "id": "-qPl0wJGYeb6"
      },
      "source": [
        "# Load data from S3 Buckets into Spark DataFrame"
      ]
    },
    {
      "cell_type": "code",
      "metadata": {
        "id": "XF_9JV3y0b6-"
      },
      "source": [
        "# Read in data from S3 Buckets\n",
        "from pyspark import SparkFiles\n",
        "url = \"https://spot-i-fy-bucket.s3.us-east-2.amazonaws.com/tracks.csv\"\n",
        "spark.sparkContext.addFile(url)\n",
        "df = spark.read.csv(SparkFiles.get(\"tracks.csv\"), sep=\",\", header=True)"
      ],
      "execution_count": 16,
      "outputs": []
    },
    {
      "cell_type": "code",
      "metadata": {
        "colab": {
          "base_uri": "https://localhost:8080/"
        },
        "id": "HaCUfzLx1gw-",
        "outputId": "4ed5d2f0-0fc7-40c4-cfd3-1dcb7757d646"
      },
      "source": [
        "# Show DataFrame\n",
        "df.show()"
      ],
      "execution_count": 17,
      "outputs": [
        {
          "output_type": "stream",
          "text": [
            "+--------------------+--------------------+----------+-----------+--------+-------------------+--------------------+------------+------------+------+---+--------+----+-----------+------------+----------------+--------+-------+-------+--------------+\n",
            "|                  id|                name|popularity|duration_ms|explicit|            artists|          id_artists|release_date|danceability|energy|key|loudness|mode|speechiness|acousticness|instrumentalness|liveness|valence|  tempo|time_signature|\n",
            "+--------------------+--------------------+----------+-----------+--------+-------------------+--------------------+------------+------------+------+---+--------+----+-----------+------------+----------------+--------+-------+-------+--------------+\n",
            "|35iwgR4jXetI318WE...|               Carve|         6|     126903|       0|            ['Uli']|['45tIt06XoI0Iio4...|  1922-02-22|       0.645| 0.445|  0| -13.338|   1|      0.451|       0.674|           0.744|   0.151|  0.127|104.851|             3|\n",
            "|021ht4sdgPcrDgSk7...|Capítulo 2.16 - B...|         0|      98200|       0|['Fernando Pessoa']|['14jtPCOoNZwquk5...|  1922-06-01|       0.695| 0.263|  0| -22.136|   1|      0.957|       0.797|             0.0|   0.148|  0.655|102.009|             1|\n",
            "|07A5yehtSnoedViJA...|Vivo para Querert...|         0|     181640|       0|['Ignacio Corsini']|['5LiOoJbxVSAMkBS...|  1922-03-21|       0.434| 0.177|  1|  -21.18|   1|     0.0512|       0.994|          0.0218|   0.212|  0.457|130.418|             5|\n",
            "|08FmqUhxtyLTn6pAh...|El Prisionero - R...|         0|     176907|       0|['Ignacio Corsini']|['5LiOoJbxVSAMkBS...|  1922-03-21|       0.321|0.0946|  7| -27.961|   1|     0.0504|       0.995|           0.918|   0.104|  0.397| 169.98|             3|\n",
            "|08y9GfoqCWfOGsKdw...| Lady of the Evening|         0|     163080|       0|    ['Dick Haymes']|['3BiJGZsyX9sJchT...|        1922|       0.402| 0.158|  3|   -16.9|   0|      0.039|       0.989|            0.13|   0.311|  0.196| 103.22|             4|\n",
            "|0BRXJHRNGQ3W4v9fr...|           Ave Maria|         0|     178933|       0|    ['Dick Haymes']|['3BiJGZsyX9sJchT...|        1922|       0.227| 0.261|  5| -12.343|   1|     0.0382|       0.994|           0.247|  0.0977| 0.0539|118.891|             4|\n",
            "|0Dd9ImXtAtGwsmsAD...|      La Butte Rouge|         0|     134467|       0|  ['Francis Marty']|['2nuMRGzeJ5jJEKl...|        1922|        0.51| 0.355|  4| -12.833|   1|      0.124|       0.965|             0.0|   0.155|  0.727| 85.754|             5|\n",
            "|0IA0Hju8CAgYfV1hw...|             La Java|         0|     161427|       0|    ['Mistinguett']|['4AxgXfD7ISvJSTO...|        1922|       0.563| 0.184|  4| -13.757|   1|     0.0512|       0.993|        1.55e-05|   0.325|  0.654|133.088|             3|\n",
            "|0IgI1UCz84pYeVetn...|  Old Fashioned Girl|         0|     310073|       0|    ['Greg Fieler']|['5nWlsH5RDgFuRAi...|        1922|       0.488| 0.475|  0| -16.222|   0|     0.0399|        0.62|         0.00645|   0.107|  0.544|139.952|             4|\n",
            "|0JV4iqw2lSKJaHBQZ...|Martín Fierro - R...|         0|     181173|       0|['Ignacio Corsini']|['5LiOoJbxVSAMkBS...|  1922-03-29|       0.548|0.0391|  6| -23.228|   1|      0.153|       0.996|           0.933|   0.148|  0.612| 75.595|             3|\n",
            "|0OYGe21oScKJfanLy...|Capítulo 2.8 - Ba...|         0|      99100|       0|['Fernando Pessoa']|['14jtPCOoNZwquk5...|  1922-06-01|       0.676| 0.235| 11| -22.447|   0|       0.96|       0.794|             0.0|    0.21|  0.724| 96.777|             3|\n",
            "|0PE42H6tslQuyMMiG...|Capítulo 2.25 - B...|         0|     132700|       0|['Fernando Pessoa']|['14jtPCOoNZwquk5...|  1922-06-01|        0.75| 0.229|  2| -22.077|   1|      0.955|       0.578|             0.0|   0.314|  0.531|102.629|             3|\n",
            "|0PH9AACae1f957JAa...|            Lazy Boi|         0|     157333|       0|            ['Uli']|['45tIt06XoI0Iio4...|  1922-02-22|       0.298|  0.46|  1| -18.645|   1|      0.453|       0.521|           0.856|   0.436|  0.402| 87.921|             4|\n",
            "|0QiT0Oo5QdLXdFw6R...|Tu Verras Montmartre|         1|     186800|       0|   ['Lucien Boyer']|['4mSouLpNSEY1d7O...|        1922|       0.703|  0.28|  0|  -15.39|   1|      0.174|       0.995|        6.84e-05|   0.163|  0.897|127.531|             4|\n",
            "|0TWsNj5iSvbMTtbED...|Elle Prend L'boul...|         0|     172027|       0|    ['Félix Mayol']|['7DIlOK9L8d0IQ7X...|        1922|       0.709| 0.289|  2| -14.978|   1|       0.18|       0.967|             0.0|   0.119|   0.84|107.515|             4|\n",
            "|0cC9CYjLRIzwchQ42...|Capítulo 1.23 - B...|         0|      96600|       0|['Fernando Pessoa']|['14jtPCOoNZwquk5...|  1922-06-01|       0.687| 0.198|  4| -24.264|   0|      0.962|       0.754|             0.0|   0.197|  0.478| 78.453|             1|\n",
            "|0eb1PfHxT6HnXvvdU...|Capítulo 1.18 - B...|         0|     103200|       0|['Fernando Pessoa']|['14jtPCOoNZwquk5...|  1922-06-01|         0.8| 0.171|  8| -24.384|   1|      0.953|        0.67|             0.0|   0.123|  0.693| 59.613|             3|\n",
            "|0grXU6GKVNCVMJbse...|Capítulo 1.10 - B...|         0|      95800|       0|['Fernando Pessoa']|['14jtPCOoNZwquk5...|  1922-06-01|         0.7| 0.208|  2| -23.874|   1|      0.956|       0.691|             0.0|   0.441|  0.613| 85.739|             1|\n",
            "|0kCB1bDVBC8gWCFcn...|  Ca C'est Une Chose|         0|     188000|       0| ['Victor Boucher']|['7vVR02JJYvsEAEP...|        1922|       0.352| 0.334|  5| -13.038|   1|     0.0594|       0.996|         0.00746|    0.36|  0.414| 76.403|             4|\n",
            "|0l3BQsVJ7F76wlN5Q...|El Vendaval - Rem...|         0|     153533|       0|['Ignacio Corsini']|['5LiOoJbxVSAMkBS...|  1922-03-21|        0.37| 0.372|  2| -17.138|   1|     0.0865|       0.985|        0.000681|   0.929|  0.753|159.669|             4|\n",
            "+--------------------+--------------------+----------+-----------+--------+-------------------+--------------------+------------+------------+------+---+--------+----+-----------+------------+----------------+--------+-------+-------+--------------+\n",
            "only showing top 20 rows\n",
            "\n"
          ],
          "name": "stdout"
        }
      ]
    },
    {
      "cell_type": "code",
      "metadata": {
        "colab": {
          "base_uri": "https://localhost:8080/"
        },
        "id": "NkJIOo-812DV",
        "outputId": "5731bcb2-785d-4f44-f1ba-14d74bb76bf8"
      },
      "source": [
        "# Print our schema\n",
        "df.printSchema()"
      ],
      "execution_count": 18,
      "outputs": [
        {
          "output_type": "stream",
          "text": [
            "root\n",
            " |-- id: string (nullable = true)\n",
            " |-- name: string (nullable = true)\n",
            " |-- popularity: string (nullable = true)\n",
            " |-- duration_ms: string (nullable = true)\n",
            " |-- explicit: string (nullable = true)\n",
            " |-- artists: string (nullable = true)\n",
            " |-- id_artists: string (nullable = true)\n",
            " |-- release_date: string (nullable = true)\n",
            " |-- danceability: string (nullable = true)\n",
            " |-- energy: string (nullable = true)\n",
            " |-- key: string (nullable = true)\n",
            " |-- loudness: string (nullable = true)\n",
            " |-- mode: string (nullable = true)\n",
            " |-- speechiness: string (nullable = true)\n",
            " |-- acousticness: string (nullable = true)\n",
            " |-- instrumentalness: string (nullable = true)\n",
            " |-- liveness: string (nullable = true)\n",
            " |-- valence: string (nullable = true)\n",
            " |-- tempo: string (nullable = true)\n",
            " |-- time_signature: string (nullable = true)\n",
            "\n"
          ],
          "name": "stdout"
        }
      ]
    },
    {
      "cell_type": "code",
      "metadata": {
        "colab": {
          "base_uri": "https://localhost:8080/"
        },
        "id": "k7F1LXdfZVIH",
        "outputId": "887e6f9f-99dc-4540-cade-89a94c329a27"
      },
      "source": [
        "# Read in data from S3 Buckets\n",
        "from pyspark import SparkFiles\n",
        "url = \"https://spot-i-fy-bucket.s3.us-east-2.amazonaws.com/artists.csv\"\n",
        "spark.sparkContext.addFile(url)\n",
        "a_df = spark.read.csv(SparkFiles.get(\"artists.csv\"), sep=\",\", header=True)\n",
        "\n",
        "# Show DataFrame\n",
        "a_df.show()"
      ],
      "execution_count": 19,
      "outputs": [
        {
          "output_type": "stream",
          "text": [
            "+--------------------+---------+------+--------------------+----------+\n",
            "|                  id|followers|genres|                name|popularity|\n",
            "+--------------------+---------+------+--------------------+----------+\n",
            "|0DheY5irMjBUeLybb...|      0.0|    []|Armid & Amir Zare...|         0|\n",
            "|0DlhY15l3wsrnlfGi...|      5.0|    []|         ปูนา ภาวิณี|         0|\n",
            "|0DmRESX2JknGPQyO1...|      0.0|    []|               Sadaa|         0|\n",
            "|0DmhnbHjm1qw6NCYP...|      0.0|    []|           Tra'gruda|         0|\n",
            "|0Dn11fWM7vHQ3rinv...|      2.0|    []|Ioannis Panoutsop...|         0|\n",
            "|0DotfDlYMGqkbzfBh...|      7.0|    []|       Astral Affect|         0|\n",
            "|0DqP3bOCiC48L8SM9...|      1.0|    []|           Yung Seed|         0|\n",
            "|0Drs3maQb99iRglyT...|      0.0|    []|               Wi'Ma|         0|\n",
            "|0DsPeAi1gxPPnYjgp...|      0.0|    []|             lentboy|         0|\n",
            "|0DtvnTxgZ9K5YaPS5...|     20.0|    []|            addworks|         0|\n",
            "|0Du4t8UK1lBD8TnOI...|      1.0|    []|         Harrbazzter|         0|\n",
            "|0DuJ5k2ERoAizEdgU...|      0.0|    []|      Helena Brunner|         0|\n",
            "|0DujX6vG6qOz2wVBC...|      0.0|    []|      Deezy McDuffie|         0|\n",
            "|0DvBSYDq5ikdlKgp9...|      1.0|    []|       Riyaz Azaimar|         0|\n",
            "|0DvvojCMIqsOT1Bti...|    422.0|    []|       Sidonie Radio|         0|\n",
            "|0DxcE03jyjg3wQVHU...|      0.0|    []|          Le Chamête|         0|\n",
            "|0DxsGcq4ILa7Ss2Cm...|      0.0|    []|            Lipin. P|         0|\n",
            "|0DzKNJPHYPMaLDxDV...|      4.0|    []|        Breakingnews|         0|\n",
            "|0DzfuBZVzDryD5ZqK...|      0.0|    []|      TINY x dr.KONG|         0|\n",
            "|0DzvgthIK2nmlAPE0...|      0.0|    []|              Stan P|         0|\n",
            "+--------------------+---------+------+--------------------+----------+\n",
            "only showing top 20 rows\n",
            "\n"
          ],
          "name": "stdout"
        }
      ]
    },
    {
      "cell_type": "code",
      "metadata": {
        "colab": {
          "base_uri": "https://localhost:8080/"
        },
        "id": "nli8slMmZrvI",
        "outputId": "e8ed34d9-2948-4693-f816-7c4c13db2bf3"
      },
      "source": [
        "a_df.printSchema()"
      ],
      "execution_count": 20,
      "outputs": [
        {
          "output_type": "stream",
          "text": [
            "root\n",
            " |-- id: string (nullable = true)\n",
            " |-- followers: string (nullable = true)\n",
            " |-- genres: string (nullable = true)\n",
            " |-- name: string (nullable = true)\n",
            " |-- popularity: string (nullable = true)\n",
            "\n"
          ],
          "name": "stdout"
        }
      ]
    },
    {
      "cell_type": "markdown",
      "metadata": {
        "id": "vQBTzmjIaQnm"
      },
      "source": [
        "# Create Pandas DataFrames"
      ]
    },
    {
      "cell_type": "code",
      "metadata": {
        "id": "SU7OCfYNZyCW"
      },
      "source": [
        "import pandas as pd\n",
        "import numpy as np\n",
        "import datetime"
      ],
      "execution_count": 44,
      "outputs": []
    },
    {
      "cell_type": "code",
      "metadata": {
        "colab": {
          "base_uri": "https://localhost:8080/",
          "height": 330
        },
        "id": "7a-6twI10f6y",
        "outputId": "3759048a-ff5e-46ab-89cd-a71a40bc1920"
      },
      "source": [
        "tracks_df = df.toPandas()\n",
        "tracks_df.head()"
      ],
      "execution_count": 22,
      "outputs": [
        {
          "output_type": "execute_result",
          "data": {
            "text/html": [
              "<div>\n",
              "<style scoped>\n",
              "    .dataframe tbody tr th:only-of-type {\n",
              "        vertical-align: middle;\n",
              "    }\n",
              "\n",
              "    .dataframe tbody tr th {\n",
              "        vertical-align: top;\n",
              "    }\n",
              "\n",
              "    .dataframe thead th {\n",
              "        text-align: right;\n",
              "    }\n",
              "</style>\n",
              "<table border=\"1\" class=\"dataframe\">\n",
              "  <thead>\n",
              "    <tr style=\"text-align: right;\">\n",
              "      <th></th>\n",
              "      <th>id</th>\n",
              "      <th>name</th>\n",
              "      <th>popularity</th>\n",
              "      <th>duration_ms</th>\n",
              "      <th>explicit</th>\n",
              "      <th>artists</th>\n",
              "      <th>id_artists</th>\n",
              "      <th>release_date</th>\n",
              "      <th>danceability</th>\n",
              "      <th>energy</th>\n",
              "      <th>key</th>\n",
              "      <th>loudness</th>\n",
              "      <th>mode</th>\n",
              "      <th>speechiness</th>\n",
              "      <th>acousticness</th>\n",
              "      <th>instrumentalness</th>\n",
              "      <th>liveness</th>\n",
              "      <th>valence</th>\n",
              "      <th>tempo</th>\n",
              "      <th>time_signature</th>\n",
              "    </tr>\n",
              "  </thead>\n",
              "  <tbody>\n",
              "    <tr>\n",
              "      <th>0</th>\n",
              "      <td>35iwgR4jXetI318WEWsa1Q</td>\n",
              "      <td>Carve</td>\n",
              "      <td>6</td>\n",
              "      <td>126903</td>\n",
              "      <td>0</td>\n",
              "      <td>['Uli']</td>\n",
              "      <td>['45tIt06XoI0Iio4LBEVpls']</td>\n",
              "      <td>1922-02-22</td>\n",
              "      <td>0.645</td>\n",
              "      <td>0.445</td>\n",
              "      <td>0</td>\n",
              "      <td>-13.338</td>\n",
              "      <td>1</td>\n",
              "      <td>0.451</td>\n",
              "      <td>0.674</td>\n",
              "      <td>0.744</td>\n",
              "      <td>0.151</td>\n",
              "      <td>0.127</td>\n",
              "      <td>104.851</td>\n",
              "      <td>3</td>\n",
              "    </tr>\n",
              "    <tr>\n",
              "      <th>1</th>\n",
              "      <td>021ht4sdgPcrDgSk7JTbKY</td>\n",
              "      <td>Capítulo 2.16 - Banquero Anarquista</td>\n",
              "      <td>0</td>\n",
              "      <td>98200</td>\n",
              "      <td>0</td>\n",
              "      <td>['Fernando Pessoa']</td>\n",
              "      <td>['14jtPCOoNZwquk5wd9DxrY']</td>\n",
              "      <td>1922-06-01</td>\n",
              "      <td>0.695</td>\n",
              "      <td>0.263</td>\n",
              "      <td>0</td>\n",
              "      <td>-22.136</td>\n",
              "      <td>1</td>\n",
              "      <td>0.957</td>\n",
              "      <td>0.797</td>\n",
              "      <td>0.0</td>\n",
              "      <td>0.148</td>\n",
              "      <td>0.655</td>\n",
              "      <td>102.009</td>\n",
              "      <td>1</td>\n",
              "    </tr>\n",
              "    <tr>\n",
              "      <th>2</th>\n",
              "      <td>07A5yehtSnoedViJAZkNnc</td>\n",
              "      <td>Vivo para Quererte - Remasterizado</td>\n",
              "      <td>0</td>\n",
              "      <td>181640</td>\n",
              "      <td>0</td>\n",
              "      <td>['Ignacio Corsini']</td>\n",
              "      <td>['5LiOoJbxVSAMkBS2fUm3X2']</td>\n",
              "      <td>1922-03-21</td>\n",
              "      <td>0.434</td>\n",
              "      <td>0.177</td>\n",
              "      <td>1</td>\n",
              "      <td>-21.18</td>\n",
              "      <td>1</td>\n",
              "      <td>0.0512</td>\n",
              "      <td>0.994</td>\n",
              "      <td>0.0218</td>\n",
              "      <td>0.212</td>\n",
              "      <td>0.457</td>\n",
              "      <td>130.418</td>\n",
              "      <td>5</td>\n",
              "    </tr>\n",
              "    <tr>\n",
              "      <th>3</th>\n",
              "      <td>08FmqUhxtyLTn6pAh6bk45</td>\n",
              "      <td>El Prisionero - Remasterizado</td>\n",
              "      <td>0</td>\n",
              "      <td>176907</td>\n",
              "      <td>0</td>\n",
              "      <td>['Ignacio Corsini']</td>\n",
              "      <td>['5LiOoJbxVSAMkBS2fUm3X2']</td>\n",
              "      <td>1922-03-21</td>\n",
              "      <td>0.321</td>\n",
              "      <td>0.0946</td>\n",
              "      <td>7</td>\n",
              "      <td>-27.961</td>\n",
              "      <td>1</td>\n",
              "      <td>0.0504</td>\n",
              "      <td>0.995</td>\n",
              "      <td>0.918</td>\n",
              "      <td>0.104</td>\n",
              "      <td>0.397</td>\n",
              "      <td>169.98</td>\n",
              "      <td>3</td>\n",
              "    </tr>\n",
              "    <tr>\n",
              "      <th>4</th>\n",
              "      <td>08y9GfoqCWfOGsKdwojr5e</td>\n",
              "      <td>Lady of the Evening</td>\n",
              "      <td>0</td>\n",
              "      <td>163080</td>\n",
              "      <td>0</td>\n",
              "      <td>['Dick Haymes']</td>\n",
              "      <td>['3BiJGZsyX9sJchTqcSA7Su']</td>\n",
              "      <td>1922</td>\n",
              "      <td>0.402</td>\n",
              "      <td>0.158</td>\n",
              "      <td>3</td>\n",
              "      <td>-16.9</td>\n",
              "      <td>0</td>\n",
              "      <td>0.039</td>\n",
              "      <td>0.989</td>\n",
              "      <td>0.13</td>\n",
              "      <td>0.311</td>\n",
              "      <td>0.196</td>\n",
              "      <td>103.22</td>\n",
              "      <td>4</td>\n",
              "    </tr>\n",
              "  </tbody>\n",
              "</table>\n",
              "</div>"
            ],
            "text/plain": [
              "                       id  ... time_signature\n",
              "0  35iwgR4jXetI318WEWsa1Q  ...              3\n",
              "1  021ht4sdgPcrDgSk7JTbKY  ...              1\n",
              "2  07A5yehtSnoedViJAZkNnc  ...              5\n",
              "3  08FmqUhxtyLTn6pAh6bk45  ...              3\n",
              "4  08y9GfoqCWfOGsKdwojr5e  ...              4\n",
              "\n",
              "[5 rows x 20 columns]"
            ]
          },
          "metadata": {
            "tags": []
          },
          "execution_count": 22
        }
      ]
    },
    {
      "cell_type": "code",
      "metadata": {
        "colab": {
          "base_uri": "https://localhost:8080/",
          "height": 206
        },
        "id": "Sk4ORqDNbLk-",
        "outputId": "73042c71-527e-4a0e-e720-97c0d453812d"
      },
      "source": [
        "artists_df = a_df.toPandas()\n",
        "artists_df.head()"
      ],
      "execution_count": 31,
      "outputs": [
        {
          "output_type": "execute_result",
          "data": {
            "text/html": [
              "<div>\n",
              "<style scoped>\n",
              "    .dataframe tbody tr th:only-of-type {\n",
              "        vertical-align: middle;\n",
              "    }\n",
              "\n",
              "    .dataframe tbody tr th {\n",
              "        vertical-align: top;\n",
              "    }\n",
              "\n",
              "    .dataframe thead th {\n",
              "        text-align: right;\n",
              "    }\n",
              "</style>\n",
              "<table border=\"1\" class=\"dataframe\">\n",
              "  <thead>\n",
              "    <tr style=\"text-align: right;\">\n",
              "      <th></th>\n",
              "      <th>id</th>\n",
              "      <th>followers</th>\n",
              "      <th>genres</th>\n",
              "      <th>name</th>\n",
              "      <th>popularity</th>\n",
              "    </tr>\n",
              "  </thead>\n",
              "  <tbody>\n",
              "    <tr>\n",
              "      <th>0</th>\n",
              "      <td>0DheY5irMjBUeLybbCUEZ2</td>\n",
              "      <td>0.0</td>\n",
              "      <td>[]</td>\n",
              "      <td>Armid &amp; Amir Zare Pashai feat. Sara Rouzbehani</td>\n",
              "      <td>0</td>\n",
              "    </tr>\n",
              "    <tr>\n",
              "      <th>1</th>\n",
              "      <td>0DlhY15l3wsrnlfGio2bjU</td>\n",
              "      <td>5.0</td>\n",
              "      <td>[]</td>\n",
              "      <td>ปูนา ภาวิณี</td>\n",
              "      <td>0</td>\n",
              "    </tr>\n",
              "    <tr>\n",
              "      <th>2</th>\n",
              "      <td>0DmRESX2JknGPQyO15yxg7</td>\n",
              "      <td>0.0</td>\n",
              "      <td>[]</td>\n",
              "      <td>Sadaa</td>\n",
              "      <td>0</td>\n",
              "    </tr>\n",
              "    <tr>\n",
              "      <th>3</th>\n",
              "      <td>0DmhnbHjm1qw6NCYPeZNgJ</td>\n",
              "      <td>0.0</td>\n",
              "      <td>[]</td>\n",
              "      <td>Tra'gruda</td>\n",
              "      <td>0</td>\n",
              "    </tr>\n",
              "    <tr>\n",
              "      <th>4</th>\n",
              "      <td>0Dn11fWM7vHQ3rinvWEl4E</td>\n",
              "      <td>2.0</td>\n",
              "      <td>[]</td>\n",
              "      <td>Ioannis Panoutsopoulos</td>\n",
              "      <td>0</td>\n",
              "    </tr>\n",
              "  </tbody>\n",
              "</table>\n",
              "</div>"
            ],
            "text/plain": [
              "                       id  ... popularity\n",
              "0  0DheY5irMjBUeLybbCUEZ2  ...          0\n",
              "1  0DlhY15l3wsrnlfGio2bjU  ...          0\n",
              "2  0DmRESX2JknGPQyO15yxg7  ...          0\n",
              "3  0DmhnbHjm1qw6NCYPeZNgJ  ...          0\n",
              "4  0Dn11fWM7vHQ3rinvWEl4E  ...          0\n",
              "\n",
              "[5 rows x 5 columns]"
            ]
          },
          "metadata": {
            "tags": []
          },
          "execution_count": 31
        }
      ]
    },
    {
      "cell_type": "code",
      "metadata": {
        "colab": {
          "base_uri": "https://localhost:8080/",
          "height": 363
        },
        "id": "GtlwhmYruhAf",
        "outputId": "e6e8c15e-4d5b-4cb6-844f-c29b04a701b6"
      },
      "source": [
        "artists_df = artists_df.drop(columns=['followers'])\n",
        "artists_df.head(10)"
      ],
      "execution_count": 32,
      "outputs": [
        {
          "output_type": "execute_result",
          "data": {
            "text/html": [
              "<div>\n",
              "<style scoped>\n",
              "    .dataframe tbody tr th:only-of-type {\n",
              "        vertical-align: middle;\n",
              "    }\n",
              "\n",
              "    .dataframe tbody tr th {\n",
              "        vertical-align: top;\n",
              "    }\n",
              "\n",
              "    .dataframe thead th {\n",
              "        text-align: right;\n",
              "    }\n",
              "</style>\n",
              "<table border=\"1\" class=\"dataframe\">\n",
              "  <thead>\n",
              "    <tr style=\"text-align: right;\">\n",
              "      <th></th>\n",
              "      <th>id</th>\n",
              "      <th>genres</th>\n",
              "      <th>name</th>\n",
              "      <th>popularity</th>\n",
              "    </tr>\n",
              "  </thead>\n",
              "  <tbody>\n",
              "    <tr>\n",
              "      <th>0</th>\n",
              "      <td>0DheY5irMjBUeLybbCUEZ2</td>\n",
              "      <td>[]</td>\n",
              "      <td>Armid &amp; Amir Zare Pashai feat. Sara Rouzbehani</td>\n",
              "      <td>0</td>\n",
              "    </tr>\n",
              "    <tr>\n",
              "      <th>1</th>\n",
              "      <td>0DlhY15l3wsrnlfGio2bjU</td>\n",
              "      <td>[]</td>\n",
              "      <td>ปูนา ภาวิณี</td>\n",
              "      <td>0</td>\n",
              "    </tr>\n",
              "    <tr>\n",
              "      <th>2</th>\n",
              "      <td>0DmRESX2JknGPQyO15yxg7</td>\n",
              "      <td>[]</td>\n",
              "      <td>Sadaa</td>\n",
              "      <td>0</td>\n",
              "    </tr>\n",
              "    <tr>\n",
              "      <th>3</th>\n",
              "      <td>0DmhnbHjm1qw6NCYPeZNgJ</td>\n",
              "      <td>[]</td>\n",
              "      <td>Tra'gruda</td>\n",
              "      <td>0</td>\n",
              "    </tr>\n",
              "    <tr>\n",
              "      <th>4</th>\n",
              "      <td>0Dn11fWM7vHQ3rinvWEl4E</td>\n",
              "      <td>[]</td>\n",
              "      <td>Ioannis Panoutsopoulos</td>\n",
              "      <td>0</td>\n",
              "    </tr>\n",
              "    <tr>\n",
              "      <th>5</th>\n",
              "      <td>0DotfDlYMGqkbzfBhcA5r6</td>\n",
              "      <td>[]</td>\n",
              "      <td>Astral Affect</td>\n",
              "      <td>0</td>\n",
              "    </tr>\n",
              "    <tr>\n",
              "      <th>6</th>\n",
              "      <td>0DqP3bOCiC48L8SM9gK4W8</td>\n",
              "      <td>[]</td>\n",
              "      <td>Yung Seed</td>\n",
              "      <td>0</td>\n",
              "    </tr>\n",
              "    <tr>\n",
              "      <th>7</th>\n",
              "      <td>0Drs3maQb99iRglyTuxizI</td>\n",
              "      <td>[]</td>\n",
              "      <td>Wi'Ma</td>\n",
              "      <td>0</td>\n",
              "    </tr>\n",
              "    <tr>\n",
              "      <th>8</th>\n",
              "      <td>0DsPeAi1gxPPnYjgpiEGSR</td>\n",
              "      <td>[]</td>\n",
              "      <td>lentboy</td>\n",
              "      <td>0</td>\n",
              "    </tr>\n",
              "    <tr>\n",
              "      <th>9</th>\n",
              "      <td>0DtvnTxgZ9K5YaPS5jdlQW</td>\n",
              "      <td>[]</td>\n",
              "      <td>addworks</td>\n",
              "      <td>0</td>\n",
              "    </tr>\n",
              "  </tbody>\n",
              "</table>\n",
              "</div>"
            ],
            "text/plain": [
              "                       id  ... popularity\n",
              "0  0DheY5irMjBUeLybbCUEZ2  ...          0\n",
              "1  0DlhY15l3wsrnlfGio2bjU  ...          0\n",
              "2  0DmRESX2JknGPQyO15yxg7  ...          0\n",
              "3  0DmhnbHjm1qw6NCYPeZNgJ  ...          0\n",
              "4  0Dn11fWM7vHQ3rinvWEl4E  ...          0\n",
              "5  0DotfDlYMGqkbzfBhcA5r6  ...          0\n",
              "6  0DqP3bOCiC48L8SM9gK4W8  ...          0\n",
              "7  0Drs3maQb99iRglyTuxizI  ...          0\n",
              "8  0DsPeAi1gxPPnYjgpiEGSR  ...          0\n",
              "9  0DtvnTxgZ9K5YaPS5jdlQW  ...          0\n",
              "\n",
              "[10 rows x 4 columns]"
            ]
          },
          "metadata": {
            "tags": []
          },
          "execution_count": 32
        }
      ]
    },
    {
      "cell_type": "markdown",
      "metadata": {
        "id": "vc-q2AqTbmPK"
      },
      "source": [
        "# Clean up Data"
      ]
    },
    {
      "cell_type": "code",
      "metadata": {
        "id": "JK4dCv_i2TRF",
        "colab": {
          "base_uri": "https://localhost:8080/"
        },
        "outputId": "e1b45f86-6dbb-42ef-f7f6-cbc5e9a82e72"
      },
      "source": [
        "print(tracks_df.count())\n",
        "tracks_df = tracks_df.dropna()\n",
        "print(tracks_df.count())\n",
        "tracks_df = tracks_df.drop_duplicates()\n",
        "print(tracks_df.count())"
      ],
      "execution_count": 34,
      "outputs": [
        {
          "output_type": "stream",
          "text": [
            "id                  586589\n",
            "name                586589\n",
            "popularity          586589\n",
            "duration_ms         586589\n",
            "explicit            586589\n",
            "artists             586589\n",
            "id_artists          586589\n",
            "release_date        586589\n",
            "danceability        586589\n",
            "energy              586589\n",
            "key                 586589\n",
            "loudness            586589\n",
            "mode                586589\n",
            "speechiness         586589\n",
            "acousticness        586589\n",
            "instrumentalness    586589\n",
            "liveness            586589\n",
            "valence             586589\n",
            "tempo               586589\n",
            "time_signature      586589\n",
            "dtype: int64\n",
            "id                  586589\n",
            "name                586589\n",
            "popularity          586589\n",
            "duration_ms         586589\n",
            "explicit            586589\n",
            "artists             586589\n",
            "id_artists          586589\n",
            "release_date        586589\n",
            "danceability        586589\n",
            "energy              586589\n",
            "key                 586589\n",
            "loudness            586589\n",
            "mode                586589\n",
            "speechiness         586589\n",
            "acousticness        586589\n",
            "instrumentalness    586589\n",
            "liveness            586589\n",
            "valence             586589\n",
            "tempo               586589\n",
            "time_signature      586589\n",
            "dtype: int64\n",
            "id                  586589\n",
            "name                586589\n",
            "popularity          586589\n",
            "duration_ms         586589\n",
            "explicit            586589\n",
            "artists             586589\n",
            "id_artists          586589\n",
            "release_date        586589\n",
            "danceability        586589\n",
            "energy              586589\n",
            "key                 586589\n",
            "loudness            586589\n",
            "mode                586589\n",
            "speechiness         586589\n",
            "acousticness        586589\n",
            "instrumentalness    586589\n",
            "liveness            586589\n",
            "valence             586589\n",
            "tempo               586589\n",
            "time_signature      586589\n",
            "dtype: int64\n"
          ],
          "name": "stdout"
        }
      ]
    },
    {
      "cell_type": "code",
      "metadata": {
        "colab": {
          "base_uri": "https://localhost:8080/"
        },
        "id": "BXVCVOBPi6IA",
        "outputId": "e2e0069f-a13d-4d4d-edcb-38041ba5fc8b"
      },
      "source": [
        "# tracks_df = tracks_df[tracks_df['release_date'].notna()]\n",
        "\n",
        "# print(tracks_df.count())\n",
        "\n",
        "tracks_df = tracks_df.dropna(subset=['release_date'])\n",
        "print(tracks_df.count())\n"
      ],
      "execution_count": 43,
      "outputs": [
        {
          "output_type": "stream",
          "text": [
            "id                  586589\n",
            "name                586589\n",
            "popularity          586589\n",
            "duration_ms         586589\n",
            "explicit            586589\n",
            "artists             586589\n",
            "id_artists          586589\n",
            "release_date        586589\n",
            "danceability        586589\n",
            "energy              586589\n",
            "key                 586589\n",
            "loudness            586589\n",
            "mode                586589\n",
            "speechiness         586589\n",
            "acousticness        586589\n",
            "instrumentalness    586589\n",
            "liveness            586589\n",
            "valence             586589\n",
            "tempo               586589\n",
            "time_signature      586589\n",
            "dtype: int64\n"
          ],
          "name": "stdout"
        }
      ]
    },
    {
      "cell_type": "code",
      "metadata": {
        "colab": {
          "base_uri": "https://localhost:8080/"
        },
        "id": "_Q4hzumrlw-G",
        "outputId": "d7411991-97a7-40f6-b193-94c274f04613"
      },
      "source": [
        "datetime_series = pd.Series(\n",
        "    pd.date_range(\"2000-01-01\", periods=3, freq=\"Y\")\n",
        ")\n",
        "datetime_series\n"
      ],
      "execution_count": 46,
      "outputs": [
        {
          "output_type": "execute_result",
          "data": {
            "text/plain": [
              "0   2000-12-31\n",
              "1   2001-12-31\n",
              "2   2002-12-31\n",
              "dtype: datetime64[ns]"
            ]
          },
          "metadata": {
            "tags": []
          },
          "execution_count": 46
        }
      ]
    },
    {
      "cell_type": "code",
      "metadata": {
        "colab": {
          "base_uri": "https://localhost:8080/"
        },
        "id": "eSzdpC9ngAzk",
        "outputId": "2f5d9948-e853-4c37-c3bf-93863c5df6a1"
      },
      "source": [
        "#tracks_df['release_year'] = tracks_df['release_date'].astype(str).str.extract('(\\d{4})').astype(int)\n",
        "tracks_df['release_year'] = pd.to_datetime(tracks_df['release_date'], errors='coerce').dt.year\n",
        "print(tracks_df.count())"
      ],
      "execution_count": 49,
      "outputs": [
        {
          "output_type": "stream",
          "text": [
            "id                  586589\n",
            "name                586589\n",
            "popularity          586589\n",
            "duration_ms         586589\n",
            "explicit            586589\n",
            "artists             586589\n",
            "id_artists          586589\n",
            "release_date        586589\n",
            "danceability        586589\n",
            "energy              586589\n",
            "key                 586589\n",
            "loudness            586589\n",
            "mode                586589\n",
            "speechiness         586589\n",
            "acousticness        586589\n",
            "instrumentalness    586589\n",
            "liveness            586589\n",
            "valence             586589\n",
            "tempo               586589\n",
            "time_signature      586589\n",
            "release_year        583307\n",
            "dtype: int64\n"
          ],
          "name": "stdout"
        }
      ]
    },
    {
      "cell_type": "code",
      "metadata": {
        "colab": {
          "base_uri": "https://localhost:8080/"
        },
        "id": "c9ovygLdfXVJ",
        "outputId": "15a2c929-b73d-4863-a871-783c58eb3235"
      },
      "source": [
        "print(artists_df.count())\n",
        "artists_df = artists_df.dropna()\n",
        "print(artists_df.count())\n",
        "artists_df = artists_df.drop_duplicates()\n",
        "print(artists_df.count())"
      ],
      "execution_count": 35,
      "outputs": [
        {
          "output_type": "stream",
          "text": [
            "id            1104349\n",
            "genres        1104349\n",
            "name          1104349\n",
            "popularity    1104349\n",
            "dtype: int64\n",
            "id            1104349\n",
            "genres        1104349\n",
            "name          1104349\n",
            "popularity    1104349\n",
            "dtype: int64\n",
            "id            1104349\n",
            "genres        1104349\n",
            "name          1104349\n",
            "popularity    1104349\n",
            "dtype: int64\n"
          ],
          "name": "stdout"
        }
      ]
    },
    {
      "cell_type": "markdown",
      "metadata": {
        "id": "gnkOfR9Iua6i"
      },
      "source": [
        ""
      ]
    },
    {
      "cell_type": "code",
      "metadata": {
        "id": "YqH4HvRO2AIm"
      },
      "source": [
        "# Import struct fields that we can use\n",
        "from pyspark.sql.types import StructField, StringType, IntegerType, StructType"
      ],
      "execution_count": null,
      "outputs": []
    },
    {
      "cell_type": "markdown",
      "metadata": {
        "id": "kYrFluuaQOmM"
      },
      "source": [
        "Drop duplicates and incomplete rows"
      ]
    },
    {
      "cell_type": "markdown",
      "metadata": {
        "id": "l-SNbzTWVmvt"
      },
      "source": [
        "Write DataFrame to RDS"
      ]
    },
    {
      "cell_type": "code",
      "metadata": {
        "id": "yKKT-xcfVk-i"
      },
      "source": [
        " # Configuration for RDS instance\n",
        "mode = \"append\"\n",
        "jdbc_url=\"jdbc:postgresql://spotify-db.c3uki6gnymem.us-east-2.rds.amazonaws.com:5432/spotify\"\n",
        "config = {\"user\":\"root\", \n",
        "          \"password\": \"AWS2021!\", \n",
        "          \"driver\":\"org.postgresql.Driver\"}"
      ],
      "execution_count": null,
      "outputs": []
    },
    {
      "cell_type": "code",
      "metadata": {
        "id": "LJbmVGv0j39b"
      },
      "source": [
        "tracks_df.write.jdbc(url=jdbc_url, table=\"tracks_df\", mode=mode, properties=config)"
      ],
      "execution_count": null,
      "outputs": []
    }
  ]
}